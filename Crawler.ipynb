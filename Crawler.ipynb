{
 "cells": [
  {
   "cell_type": "code",
   "execution_count": 1,
   "metadata": {},
   "outputs": [],
   "source": [
    "import requests\n",
    "url = 'https://club.jd.com/comment/productPageComments.action?callback=fetchJSON_comment98&productId=100032226570&score=1&sortType=5&page=62&pageSize=10&isShadowSku=0&fold=1'\n",
    "headers = { 'User-Agent' : 'Mozilla/5.0 (Windows NT 10.0; Win64; x64) AppleWebKit/537.36 (KHTML, like Gecko) Chrome/104.0.5112.81 Safari/537.36 Edg/104.0.1293.47' }\n",
    "cookies={\n",
    "   'cookies': 'shshshfpa=90c74547-54bd-dbdd-5bfa-bbfd0ca81521-1641886761; shshshfpb=nhAM-2eneiZYB1QC9F4KAYA; unpl=JF8EAJdnNSttXkhQDR4KExAUQg9TW1gNSx8CZmIHUlUMGAADSFUZFhd7XlVdXhRKHh9vZxRXXFNLUA4eBysSEXteU11bD00VB2xXVgQFDQ8WUUtBSUt-S1xTV1wOSRAAa2cGZG1bS2QFGjIZExZNWlBdWg97JwRfVzVdXltOXAcrAysTIAkJCFtUAU4eASJlBFJbX09XAhwyGiIT; __jdv=76161171|baidu-search|t_262767352_baidusearch|cpc|106807362512_0_7259499358c644419084379ebe7bf356|1660220144596; __jdu=307765266; areaId=18; PCSYCityID=CN_430000_430700_0; shshshfp=f1b3dc55dca2bfba16eab154831f920c; ip_cityCode=1530; ipLoc-djd=18-1530-1537-29681; jwotest_product=99; __jdc=122270672; jsavif=0; __jda=122270672.307765266.1660220143.1660236719.1660241584.3; pinId=zslHWIxUaQR7PTgup6ajKrV9-x-f3wj7; pin=jd_761bc02f968e1; unick=jd_155742vuq; _tp=PTrIDiaDHwkoO4EtCypCtc79VgMsVZcbRwDA2mFUlwY=; _pst=jd_761bc02f968e1; __tk=5099780e72f1fd9be4f2dac14444ea22,3,922360; JSESSIONID=F87C086622FD6D46ADAB818432B261FD.s1; wlfstk_smdl=3z9ff4nv5tb193kg9751pc1njpeggqgj; token=876283794f55fca88b5b2ef831587d8b,2,922360; RT=\"z=1&dm=jd.com&si=k8cr7mbhio&ss=l6ph1k4m&sl=0&tt=0\"; __jdb=122270672.66.307765266|3.1660241584; shshshsID=01ecc5be0a6f0767c81bbeb5751aa92f_62_1660248482392; 3AB9D23F7A4B3C9B=FW6ROIDZAMH4KM6DUMYTDI2PPZP7MGQ7O5FXVVS5ZEQQMU4XP6LH6Q7BZ7E2GWMDE734XVT2ULXL3KIAJBEUHB3ME4'}"
   ]
  },
  {
   "cell_type": "code",
   "execution_count": 2,
   "metadata": {},
   "outputs": [
    {
     "name": "stdout",
     "output_type": "stream",
     "text": [
      "fetchJSON_comment98({\"jwotestProduct\":null,\"score\":1,\"comments\":[{\"id\":15213729412,\"guid\":\"e4f27f0c183107a76726788b55814920\",\"content\":\"屏幕效果：打开小窗口感觉边缘都是糊的，看起来很不舒服\",\"vcontent\":\"{$%&屏幕效果：&%$}打开小窗口感觉边缘都是糊的，看起来很不舒服\",\"creationTime\":\"2021-01-17 19:26:11\",\"isDelete\":false,\"isTop\":false,\"userImageUrl\":\"storage.360buyimg.com/i.imageUpload/6a645f3638363433323032353739396631363039393230303232313736_sma.jpg\",\"topped\":0,\"replies\":[{\"id\":762490633,\"commentId\":15213729412,\"venderId\":0,\"content\":\"尊敬的机主您好，针对此屏幕暗模糊问题建议您到惠普官网下载更新最新的显卡驱动安装好重启尝试下。若程序内字体显示效果不佳，您可以在桌面右键程序图标，点击属性—兼容性—更改高DPI设置—勾选替代高DPI缩放行为后重启再试下。如您在使用中遇到其他疑问，请您扫描机身上的标签并及时联系我们的售后工程师，协助您解决。感谢您对惠普的支持，祝您生活愉快。\",\"pin\":\"惠普京东自营官方旗舰店\",\"userClient\":103,\"userImage\":\"storage.360buyimg.com/i.imageUpload/bbddc6d5d6facad631343931353436333933323238_sma.jpg\",\"ip\":\"175.171.178.158\",\"productId\":100012583158,\"replyList\":[],\"nickname\":\"惠普京东自营官方旗舰店\",\"creationTime\":\"2021-01-17 20:41:16\",\"parentId\":0,\"targetId\":0,\"venderShopInfo\":{\"id\":1000000155,\"appName\":\"//mall.jd.com/index-1000000155.html\",\"title\":\"惠普京东自营官方旗舰店\",\"venderId\":1000000155}}],\"replyCount\":1,\"score\":1,\"usefulVoteCount\":0,\"userClient\":4,\"anonymousFlag\":1,\"plusAvailable\":0,\"mobileVersion\":\"\",\"productColor\":\"14英寸\",\"productSize\":\"【战66新品】R5-4500 8G 高色域\",\"textIntegral\":40,\"extMap\":{\"buyCount\":1},\"status\":1,\"referenceId\":\"100012583158\",\"referenceTime\":\"2021-01-16 21:31:38\",\"nickname\":\"-***呀\",\"replyCount2\":1,\"userImage\":\"storage.360buyimg.com/i.imageUpload/6a645f3638363433323032353739396631363039393230303232313736_sma.jpg\",\"orderId\":0,\"integral\":40,\"productSales\":\"[]\",\"referenceImage\":\"jfs/t1/39135/19/18154/57273/62f36e9eE2041133e/608596c2c34af445.jpg\",\"referenceName\":\"惠普(HP)战66五代 锐龙版 14英寸轻薄笔记本电脑(全新2022款锐龙 R7-5825U 16G 512G 高色域低功耗屏 长续航)\",\"firstCategory\":670,\"secondCategory\":671,\"thirdCategory\":672,\"aesPin\":null,\"days\":1,\"afterDays\":0},{\"id\":14177248990,\"guid\":\"014d4a7d-b496-47ce-a649-584d9a9af949\",\"content\":\"翻车了，无缘无故重启黑屏，什么鬼，新电脑就这样？\",\"creationTime\":\"2020-05-21 07:05:25\",\"isDelete\":false,\"isTop\":false,\"userImageUrl\":\"storage.360buyimg.com/i.imageUpload/6a645f3438306264636136643938333931353531343832333738363631_sma.jpg\",\"topped\":0,\"replies\":[{\"id\":629387873,\"commentId\":14177248990,\"venderId\":0,\"content\":\"朋友您好，机器黑屏通常与驱动程序异常、恶意软件等有关，建议您尝试进入安全模式查看更新驱动版本，定时进行安全查杀。若仍有疑问，您可与在线客服MM联系，或与我们的微信工程师进行沟通，相信会为您详细解答。感谢您对惠普的支持，祝您生活愉快。\",\"pin\":\"惠普京东自营官方旗舰店\",\"userClient\":103,\"userImage\":\"storage.360buyimg.com/i.imageUpload/bbddc6d5d6facad631343931353436333933323238_sma.jpg\",\"ip\":\"120.224.221.123\",\"productId\":100006893703,\"replyList\":[],\"nickname\":\"惠普京东自营官方旗舰店\",\"creationTime\":\"2020-05-21 11:03:32\",\"parentId\":0,\"targetId\":0,\"venderShopInfo\":{\"id\":1000000155,\"appName\":\"//mall.jd.com/index-1000000155.html\",\"title\":\"惠普京东自营官方旗舰店\",\"venderId\":1000000155}}],\"replyCount\":5,\"score\":1,\"imageStatus\":1,\"usefulVoteCount\":3,\"userClient\":4,\"discussionId\":731562841,\"imageCount\":4,\"anonymousFlag\":0,\"plusAvailable\":103,\"mobileVersion\":\"\",\"images\":[{\"id\":1137481228,\"imgUrl\":\"//img30.360buyimg.com/n0/s128x96_jfs/t1/110977/8/7757/97020/5ec5b7b2Ea292a4d3/e459817f1303d014.jpg\",\"imgTitle\":\"\",\"status\":0},{\"id\":1137481229,\"imgUrl\":\"//img30.360buyimg.com/n0/s128x96_jfs/t1/118504/21/7714/89974/5ec5b7b2E912087d2/e87b4011e9603e6a.jpg\",\"imgTitle\":\"\",\"status\":0},{\"id\":1137481230,\"imgUrl\":\"//img30.360buyimg.com/n0/s128x96_jfs/t1/125943/17/2446/185844/5ec5b7b4E8e9199b6/a94e0d6308b3808f.jpg\",\"imgTitle\":\"\",\"status\":0},{\"id\":1137481231,\"imgUrl\":\"//img30.360buyimg.com/n0/s128x96_jfs/t1/120883/6/2391/83253/5ec5b7b4E1e7fce15/9945a9a3212c94e7.jpg\",\"imgTitle\":\"\",\"status\":0}],\"mergeOrderStatus\":2,\"productColor\":\"14英寸\",\"productSize\":\"【战66新品】R7-4700 8G 高色域\",\"textIntegral\":20,\"imageIntegral\":20,\"extMap\":{\"buyCount\":1},\"status\":1,\"referenceId\":\"100006893703\",\"referenceTime\":\"2020-05-16 00:55:57\",\"nickname\":\"小***嘤\",\"replyCount2\":12,\"userImage\":\"storage.360buyimg.com/i.imageUpload/6a645f3438306264636136643938333931353531343832333738363631_sma.jpg\",\"orderId\":0,\"integral\":40,\"productSales\":\"[]\",\"referenceImage\":\"jfs/t1/39135/19/18154/57273/62f36e9eE2041133e/608596c2c34af445.jpg\",\"referenceName\":\"惠普(HP)战66五代 锐龙版 14英寸轻薄笔记本电脑(全新2022款锐龙 R7-5825U 16G 512G 高色域低功耗屏 长续航)\",\"firstCategory\":670,\"secondCategory\":671,\"thirdCategory\":672,\"aesPin\":\"DoQNTJw8Uvvf48dJDW-dnv1uwdzri_wF4zmI6iiQvhg8IBnXcROjYI2cLzAgOXg7ebxXAKJzX_sU7DBuR5p33g\",\"days\":5,\"afterDays\":0},{\"id\":15956685175,\"guid\":\"783182d93a6069bd067feffffed0b071\",\"content\":\"很差，我都怀疑是不是给了我二手机\",\"creationTime\":\"2021-07-09 22:32:22\",\"isDelete\":false,\"isTop\":false,\"userImageUrl\":\"misc.360buyimg.com/user/myjd-2015/css/i/peisong.jpg\",\"topped\":0,\"replies\":[{\"id\":850454536,\"commentId\":15956685175,\"venderId\":0,\"content\":\"尊敬的用户您好，感谢您选购惠普产品。非常抱歉给您带来了不便。针对您遇到的系统的问题，您可以先试一下开机按F2调用惠普检测工具先检测一下硬盘等硬件，如果检测通过的话，一般这个情况不是硬件方面的问题，有可能是系统解包过程有问题，先试一下将外接的usb方面的设备都拔下来关机断电重新开机不要接任何外接的usb设备先试一下，如果还是有问题麻烦您可以扫描机身二维码并联系到我们的线上工程师，定会竭诚为您服务。感谢您对惠普的支持，祝您生活愉快。\",\"pin\":\"惠普京东自营官方旗舰店\",\"userClient\":103,\"userImage\":\"storage.360buyimg.com/i.imageUpload/bbddc6d5d6facad631343931353436333933323238_sma.jpg\",\"ip\":\"192.56.99.1\",\"productId\":100018083778,\"replyList\":[],\"nickname\":\"惠普京东自营官方旗舰店\",\"creationTime\":\"2021-07-10 10:47:57\",\"parentId\":0,\"targetId\":0,\"venderShopInfo\":{\"id\":1000000155,\"appName\":\"//mall.jd.com/index-1000000155.html\",\"title\":\"惠普京东自营官方旗舰店\",\"venderId\":1000000155}}],\"replyCount\":1,\"score\":1,\"imageStatus\":1,\"usefulVoteCount\":0,\"userClient\":4,\"discussionId\":934589533,\"imageCount\":1,\"anonymousFlag\":1,\"plusAvailable\":0,\"mobileVersion\":\"10.0.5\",\"images\":[{\"id\":1487016165,\"imgUrl\":\"//img30.360buyimg.com/n0/s128x96_jfs/t1/184784/33/13458/83441/60e85df6E3940639d/af75d3c055ab8767.jpg\",\"imgTitle\":\"\",\"status\":0}],\"mergeOrderStatus\":2,\"productColor\":\"15.6英寸\",\"productSize\":\"【战66新品】R7-5800 16G 高色域\",\"textIntegral\":20,\"imageIntegral\":20,\"afterUserComment\":{\"id\":91968603,\"productId\":100018083778,\"content\":\"到现在都不拿走，真慢\",\"commentId\":15956685175,\"clientType\":4,\"top\":false,\"delete\":false,\"hAfterUserComment\":{\"id\":91968603,\"content\":\"到现在都不拿走，真慢\"},\"status\":1,\"modified\":\"2021-07-10 11:48:47\",\"created\":\"2021-07-10 11:48:32\"},\"extMap\":{\"buyCount\":1},\"status\":1,\"referenceId\":\"100018083778\",\"referenceTime\":\"2021-07-08 17:27:55\",\"nickname\":\"****r\",\"replyCount2\":1,\"userImage\":\"misc.360buyimg.com/user/myjd-2015/css/i/peisong.jpg\",\"orderId\":0,\"integral\":40,\"productSales\":\"[]\",\"referenceImage\":\"jfs/t1/39135/19/18154/57273/62f36e9eE2041133e/608596c2c34af445.jpg\",\"referenceName\":\"惠普(HP)战66五代 锐龙版 14英寸轻薄笔记本电脑(全新2022款锐龙 R7-5825U 16G 512G 高色域低功耗屏 长续航)\",\"firstCategory\":670,\"secondCategory\":671,\"thirdCategory\":672,\"aesPin\":null,\"days\":1,\"afterDays\":2},{\"id\":14529814971,\"guid\":\"3c0993f13a7c6e93432d138eb3f17c24\",\"content\":\"什么鬼垃圾，拿到手问题超级多，垃圾电脑，再也不会用\",\"creationTime\":\"2020-08-14 15:49:00\",\"isDelete\":false,\"isTop\":false,\"userImageUrl\":\"storage.360buyimg.com/i.imageUpload/7764485a50526c6e52457165475631353839323735303234323035_sma.jpg\",\"topped\":0,\"replies\":[{\"id\":676125947,\"commentId\":14529814971,\"venderId\":0,\"content\":\"朋友您好，若您在产品使用时有所疑问，您可致电（400-610-3888）与我们的工程师沟通，或在“惠普服务”微信公众号与我们的微信工程师取得联系，由他们协助您进行处理。感谢您对惠普的支持，祝您生活愉快。\",\"pin\":\"惠普京东自营官方旗舰店\",\"userClient\":103,\"userImage\":\"storage.360buyimg.com/i.imageUpload/bbddc6d5d6facad631343931353436333933323238_sma.jpg\",\"ip\":\"120.224.221.123\",\"productId\":100007270267,\"replyList\":[],\"nickname\":\"惠普京东自营官方旗舰店\",\"creationTime\":\"2020-08-14 16:17:16\",\"parentId\":0,\"targetId\":0,\"venderShopInfo\":{\"id\":1000000155,\"appName\":\"//mall.jd.com/index-1000000155.html\",\"title\":\"惠普京东自营官方旗舰店\",\"venderId\":1000000155}}],\"replyCount\":1,\"score\":1,\"usefulVoteCount\":0,\"userClient\":2,\"anonymousFlag\":0,\"plusAvailable\":0,\"mobileVersion\":\"\",\"productColor\":\"14英寸\",\"productSize\":\"【战66新品】R5-4500 16G 高色域\",\"textIntegral\":20,\"extMap\":{\"buyCount\":2},\"status\":1,\"referenceId\":\"100007270267\",\"referenceTime\":\"2020-08-05 22:31:27\",\"nickname\":\"小***1\",\"replyCount2\":1,\"userImage\":\"storage.360buyimg.com/i.imageUpload/7764485a50526c6e52457165475631353839323735303234323035_sma.jpg\",\"orderId\":0,\"integral\":20,\"productSales\":\"[]\",\"referenceImage\":\"jfs/t1/39135/19/18154/57273/62f36e9eE2041133e/608596c2c34af445.jpg\",\"referenceName\":\"惠普(HP)战66五代 锐龙版 14英寸轻薄笔记本电脑(全新2022款锐龙 R7-5825U 16G 512G 高色域低功耗屏 长续航)\",\"firstCategory\":670,\"secondCategory\":671,\"thirdCategory\":672,\"aesPin\":\"mnSMN4mjOmQHMJsXHr99zhbj512YJB9jIERAhz5HBculxnXkQv3NuLkpx8viuZRQ5y6h9NC2aZ5HsZDGMG1IMQ\",\"days\":9,\"afterDays\":0},{\"id\":14270717410,\"guid\":\"91af9b96-a1d7-4e69-af45-d6e7bc8d74d2\",\"content\":\"买了不到半个月就降价了5.600，这幅度也太快了吧，降个200多也就算了，的确不平衡\",\"creationTime\":\"2020-06-11 18:53:11\",\"isDelete\":false,\"isTop\":false,\"userImageUrl\":\"misc.360buyimg.com/user/myjd-2015/css/i/peisong.jpg\",\"topped\":0,\"replies\":[{\"id\":641604446,\"commentId\":14270717410,\"venderId\":0,\"content\":\"朋友您好，商城的商品价格随市场价格的浮动会有涨价、降价等变化，望您理解。还希望不要因此影响您对本本的喜爱，产品用着舒心更重要呢~感谢您对惠普的支持，祝您生活愉快。\",\"pin\":\"惠普京东自营官方旗舰店\",\"userClient\":103,\"userImage\":\"storage.360buyimg.com/i.imageUpload/bbddc6d5d6facad631343931353436333933323238_sma.jpg\",\"ip\":\"122.4.122.20\",\"productId\":100012583158,\"replyList\":[],\"nickname\":\"惠普京东自营官方旗舰店\",\"creationTime\":\"2020-06-11 19:28:48\",\"parentId\":0,\"targetId\":0,\"venderShopInfo\":{\"id\":1000000155,\"appName\":\"//mall.jd.com/index-1000000155.html\",\"title\":\"惠普京东自营官方旗舰店\",\"venderId\":1000000155}}],\"replyCount\":2,\"score\":1,\"usefulVoteCount\":0,\"userClient\":4,\"anonymousFlag\":0,\"plusAvailable\":0,\"mobileVersion\":\"\",\"productColor\":\"14英寸\",\"productSize\":\"【战66新品】R5-4500 8G 高色域\",\"textIntegral\":40,\"extMap\":{\"buyCount\":1},\"status\":1,\"referenceId\":\"100012583158\",\"referenceTime\":\"2020-05-18 22:37:04\",\"nickname\":\"****p\",\"replyCount2\":2,\"userImage\":\"misc.360buyimg.com/user/myjd-2015/css/i/peisong.jpg\",\"orderId\":0,\"integral\":40,\"productSales\":\"[]\",\"referenceImage\":\"jfs/t1/39135/19/18154/57273/62f36e9eE2041133e/608596c2c34af445.jpg\",\"referenceName\":\"惠普(HP)战66五代 锐龙版 14英寸轻薄笔记本电脑(全新2022款锐龙 R7-5825U 16G 512G 高色域低功耗屏 长续航)\",\"firstCategory\":670,\"secondCategory\":671,\"thirdCategory\":672,\"aesPin\":\"RMc1MnXp819BybQrrc0PNqh8mtyhP5k04g9nX2gboXxtYPbwikBVOm_A1L0vhoACe5URfsIlVar_kr-rRedChQ\",\"days\":24,\"afterDays\":0},{\"id\":15811901250,\"guid\":\"1dfb74bb9ca9c47c792d04a476d228af\",\"content\":\"塑料感满满，好差劲啊\",\"creationTime\":\"2021-06-15 21:10:02\",\"isDelete\":false,\"isTop\":false,\"userImageUrl\":\"misc.360buyimg.com/user/myjd-2015/css/i/peisong.jpg\",\"topped\":0,\"replies\":[{\"id\":836422451,\"commentId\":15811901250,\"venderId\":0,\"content\":\"尊敬的用户您好，感谢您选购惠普产品。机器在出厂前经过严格检测，性能与质量均符合标准，您可以放心使用。关于您描述的情况，我们需要了解更多信息，才能更好的判断问题，麻烦您扫描机身二维码并联系到我们的线上工程师，定会竭诚为您服务。感谢您对惠普的支持，祝您生活愉快。\",\"pin\":\"惠普京东自营官方旗舰店\",\"userClient\":103,\"userImage\":\"storage.360buyimg.com/i.imageUpload/bbddc6d5d6facad631343931353436333933323238_sma.jpg\",\"ip\":\"192.56.99.9\",\"productId\":100018079978,\"replyList\":[],\"nickname\":\"惠普京东自营官方旗舰店\",\"creationTime\":\"2021-06-16 10:19:51\",\"parentId\":0,\"targetId\":0,\"venderShopInfo\":{\"id\":1000000155,\"appName\":\"//mall.jd.com/index-1000000155.html\",\"title\":\"惠普京东自营官方旗舰店\",\"venderId\":1000000155}}],\"replyCount\":2,\"score\":1,\"usefulVoteCount\":0,\"userClient\":4,\"anonymousFlag\":1,\"plusAvailable\":103,\"mobileVersion\":\"10.0.4\",\"productColor\":\"14英寸\",\"productSize\":\"【战66新品】R5-5600 16G 高色域\",\"textIntegral\":20,\"extMap\":{\"buyCount\":1},\"status\":1,\"referenceId\":\"100018079978\",\"referenceTime\":\"2021-06-15 08:59:25\",\"nickname\":\"****Z\",\"replyCount2\":2,\"userImage\":\"misc.360buyimg.com/user/myjd-2015/css/i/peisong.jpg\",\"orderId\":0,\"integral\":20,\"productSales\":\"[]\",\"referenceImage\":\"jfs/t1/39135/19/18154/57273/62f36e9eE2041133e/608596c2c34af445.jpg\",\"referenceName\":\"惠普(HP)战66五代 锐龙版 14英寸轻薄笔记本电脑(全新2022款锐龙 R7-5825U 16G 512G 高色域低功耗屏 长续航)\",\"firstCategory\":670,\"secondCategory\":671,\"thirdCategory\":672,\"aesPin\":null,\"days\":0,\"afterDays\":0},{\"id\":14775141033,\"guid\":\"b0583a16a3ad5c4c4f433463c3cae3de\",\"content\":\"运行速度：慢  开机慢的很 加载十分钟\\n散热性能：差\",\"vcontent\":\"{$%&运行速度：&%$}慢  开机慢的很 加载十分钟\\n{$%&散热性能：&%$}差\",\"creationTime\":\"2020-10-20 12:15:39\",\"isDelete\":false,\"isTop\":false,\"userImageUrl\":\"misc.360buyimg.com/user/myjd-2015/css/i/peisong.jpg\",\"topped\":0,\"replies\":[{\"id\":710028806,\"commentId\":14775141033,\"venderId\":0,\"content\":\"朋友您好，开机慢建议您打开任务管理器，关闭启动选项卡中后台无用的开机启动项试下。本本采用双散热管设计，搭载智能散热系统，可根据负载情况自动调节风扇转速，散热效果十分不错。针对您所描述的散热问题，建议您到惠普官网下载更新最新的BIOS尝试一下。您遇到的系统卡顿问题，可以到惠普官网下载更新最新版本的AMD显卡驱动试一下。若问题依旧存在，您也可致电（400-610-3888）与我们的工程师沟通，或在“惠普服务”微信公众号与我们的微信工程师取得联系，由他们协助您进行处理。感谢您对惠普的支持，祝您生活愉快。\",\"pin\":\"惠普京东自营官方旗舰店\",\"userClient\":103,\"userImage\":\"storage.360buyimg.com/i.imageUpload/bbddc6d5d6facad631343931353436333933323238_sma.jpg\",\"ip\":\"120.224.221.123\",\"productId\":100012583158,\"replyList\":[],\"nickname\":\"惠普京东自营官方旗舰店\",\"creationTime\":\"2020-10-20 18:11:22\",\"parentId\":0,\"targetId\":0,\"venderShopInfo\":{\"id\":1000000155,\"appName\":\"//mall.jd.com/index-1000000155.html\",\"title\":\"惠普京东自营官方旗舰店\",\"venderId\":1000000155}}],\"replyCount\":1,\"score\":1,\"usefulVoteCount\":1,\"userClient\":4,\"anonymousFlag\":0,\"plusAvailable\":0,\"mobileVersion\":\"\",\"productColor\":\"14英寸\",\"productSize\":\"【战66新品】R5-4500 8G 高色域\",\"textIntegral\":40,\"extMap\":{\"buyCount\":1},\"status\":1,\"referenceId\":\"100012583158\",\"referenceTime\":\"2020-10-19 10:21:05\",\"nickname\":\"****4\",\"replyCount2\":1,\"userImage\":\"misc.360buyimg.com/user/myjd-2015/css/i/peisong.jpg\",\"orderId\":0,\"integral\":40,\"productSales\":\"[]\",\"referenceImage\":\"jfs/t1/39135/19/18154/57273/62f36e9eE2041133e/608596c2c34af445.jpg\",\"referenceName\":\"惠普(HP)战66五代 锐龙版 14英寸轻薄笔记本电脑(全新2022款锐龙 R7-5825U 16G 512G 高色域低功耗屏 长续航)\",\"firstCategory\":670,\"secondCategory\":671,\"thirdCategory\":672,\"aesPin\":\"krZ8hPnYuzeLotBfsFUxoJTpASu51hGzo2EfxyfOK704SOdVKwubI7Z3gU1t1k5mHOPUkozebqrxrQlA98C-xQ\",\"days\":1,\"afterDays\":0},{\"id\":15341488353,\"guid\":\"73d0c544ae21f08e6b9190d725f3cd53\",\"content\":\"搞活动时候守到凌晨买的，结果一过七天又降价三百，太套路了，气人！！！\",\"creationTime\":\"2021-02-22 21:30:53\",\"isDelete\":false,\"isTop\":false,\"userImageUrl\":\"misc.360buyimg.com/user/myjd-2015/css/i/peisong.jpg\",\"topped\":0,\"replies\":[{\"id\":776631221,\"commentId\":15341488353,\"venderId\":0,\"content\":\"尊敬的用户您好，感谢您选购惠普产品。电脑受电子市场价格行情波动可能会有价格的起伏，因市场价格走势及商品促销变化，不同时期内价格信息会有所不同。如果当前在价保期内可以打开京东APP-点击右下角我的-客户服务-价格保护-选择相应的订单在线申请即可哦，也可以联系平台价保专员（400-606-5500）咨询或申请价格保护，若符合相关标准，则可以享受价保的。产品用的舒心更重要哦，相信带给您的价值会远远超过您所付出的价格。再次感谢您选择惠普产品，祝您生活愉快。\",\"pin\":\"惠普京东自营官方旗舰店\",\"userClient\":103,\"userImage\":\"storage.360buyimg.com/i.imageUpload/bbddc6d5d6facad631343931353436333933323238_sma.jpg\",\"ip\":\"15.89.166.12\",\"productId\":100006893703,\"replyList\":[],\"nickname\":\"惠普京东自营官方旗舰店\",\"creationTime\":\"2021-02-23 09:54:44\",\"parentId\":0,\"targetId\":0,\"venderShopInfo\":{\"id\":1000000155,\"appName\":\"//mall.jd.com/index-1000000155.html\",\"title\":\"惠普京东自营官方旗舰店\",\"venderId\":1000000155}}],\"replyCount\":1,\"score\":1,\"usefulVoteCount\":0,\"userClient\":2,\"anonymousFlag\":0,\"plusAvailable\":203,\"mobileVersion\":\"\",\"productColor\":\"14英寸\",\"productSize\":\"【战66】R7 8G 高色域\",\"textIntegral\":40,\"extMap\":{\"buyCount\":1},\"status\":1,\"referenceId\":\"100006893703\",\"referenceTime\":\"2021-02-05 00:01:41\",\"nickname\":\"槛***5\",\"replyCount2\":1,\"userImage\":\"misc.360buyimg.com/user/myjd-2015/css/i/peisong.jpg\",\"orderId\":0,\"integral\":40,\"productSales\":\"[]\",\"referenceImage\":\"jfs/t1/39135/19/18154/57273/62f36e9eE2041133e/608596c2c34af445.jpg\",\"referenceName\":\"惠普(HP)战66五代 锐龙版 14英寸轻薄笔记本电脑(全新2022款锐龙 R7-5825U 16G 512G 高色域低功耗屏 长续航)\",\"firstCategory\":670,\"secondCategory\":671,\"thirdCategory\":672,\"aesPin\":\"bzzG0rfAkzZp4FXQo9HBfFzSqVWhlOYXVWgc2eviJq5ANBVBg29HhzqNquydI_zvqGIBlZnSaoZDW9GKgceRJA\",\"days\":17,\"afterDays\":0},{\"id\":15030598635,\"guid\":\"1c87edf20c5e3ee5b1949ed3d2968c72\",\"content\":\"开机非常难，我现在直接开不了机，买回来就用了几次\",\"creationTime\":\"2020-12-11 18:37:47\",\"isDelete\":false,\"isTop\":false,\"userImageUrl\":\"storage.360buyimg.com/i.imageUpload/6a645f6c4d4c557a685454576c4c5631353832373630383833353632_sma.jpg\",\"topped\":0,\"replies\":[{\"id\":743115505,\"commentId\":15030598635,\"venderId\":0,\"content\":\"千山万水，无数黑夜，只为您守候。电脑黑屏的情况可能是由于系统后台更新致使没系统有加载成功，一般开机后会看到鼠标的光标，这种情况您重启电脑一般即可正常；如果是开机后完全黑屏，首先考虑电池和适配器是否供电正常，如果全部正常，建议拔掉适配器重复3-5次长按开机键15s，给主板进行放电操作，然后重新接入适配器进行开机试下。如果依旧不能解决，请您扫描机身二维码关注“惠普服务”微信公众号，绑定电脑序列号之后选择笔记本产品，输入“人工”即可联系到我们售后工程师帮您继续调试。感谢您对HP的支持，祝您生活愉快。\",\"pin\":\"惠普京东自营官方旗舰店\",\"userClient\":103,\"userImage\":\"storage.360buyimg.com/i.imageUpload/bbddc6d5d6facad631343931353436333933323238_sma.jpg\",\"ip\":\"192.56.109.12\",\"productId\":100013312610,\"replyList\":[],\"nickname\":\"惠普京东自营官方旗舰店\",\"creationTime\":\"2020-12-11 19:25:14\",\"parentId\":0,\"targetId\":0,\"venderShopInfo\":{\"id\":1000000155,\"appName\":\"//mall.jd.com/index-1000000155.html\",\"title\":\"惠普京东自营官方旗舰店\",\"venderId\":1000000155}}],\"replyCount\":1,\"score\":1,\"usefulVoteCount\":0,\"userClient\":4,\"anonymousFlag\":0,\"plusAvailable\":0,\"mobileVersion\":\"\",\"productColor\":\"15.6英寸\",\"productSize\":\"【战66新品】R5-4500 16G 高色域\",\"textIntegral\":40,\"extMap\":{\"buyCount\":1},\"status\":1,\"referenceId\":\"100013312610\",\"referenceTime\":\"2020-11-11 00:01:01\",\"nickname\":\"王***o\",\"replyCount2\":1,\"userImage\":\"storage.360buyimg.com/i.imageUpload/6a645f6c4d4c557a685454576c4c5631353832373630383833353632_sma.jpg\",\"orderId\":0,\"integral\":40,\"productSales\":\"[]\",\"referenceImage\":\"jfs/t1/39135/19/18154/57273/62f36e9eE2041133e/608596c2c34af445.jpg\",\"referenceName\":\"惠普(HP)战66五代 锐龙版 14英寸轻薄笔记本电脑(全新2022款锐龙 R7-5825U 16G 512G 高色域低功耗屏 长续航)\",\"firstCategory\":670,\"secondCategory\":671,\"thirdCategory\":672,\"aesPin\":\"ewZzY9EKfsPngv1AG7q82dn-7DZixwqPjfHAB68fGA7gOrhm-nNnQqfNsBhXlsGIV3LRpzDf9P3bNVZMm6gxcA\",\"days\":30,\"afterDays\":0},{\"id\":16179014406,\"guid\":\"0fd13400f5d659ff9bac4a83f8ebab2f\",\"content\":\"真心垃圾，各种小问题，建议谨慎入手\",\"creationTime\":\"2021-08-22 19:36:05\",\"isDelete\":false,\"isTop\":false,\"userImageUrl\":\"misc.360buyimg.com/user/myjd-2015/css/i/peisong.jpg\",\"topped\":0,\"replies\":[{\"id\":876743497,\"commentId\":16179014406,\"venderId\":0,\"content\":\"尊敬的用户您好，感谢您选购惠普产品。机器出厂前经过严格测试，性能与质量均符合标准，请放心使用。如需要售后帮助，烦请您扫描机身上的二维码并及时联系我们的售后工程师，他们会协助您进一步处理。感谢您对惠普的支持，祝您生活愉快。\",\"pin\":\"惠普京东自营官方旗舰店\",\"userClient\":103,\"userImage\":\"storage.360buyimg.com/i.imageUpload/bbddc6d5d6facad631343931353436333933323238_sma.jpg\",\"ip\":\"123.185.111.73\",\"productId\":100018083778,\"replyList\":[],\"nickname\":\"惠普京东自营官方旗舰店\",\"creationTime\":\"2021-08-22 21:08:55\",\"parentId\":0,\"targetId\":0,\"venderShopInfo\":{\"id\":1000000155,\"appName\":\"//mall.jd.com/index-1000000155.html\",\"title\":\"惠普京东自营官方旗舰店\",\"venderId\":1000000155}}],\"replyCount\":1,\"score\":1,\"usefulVoteCount\":0,\"userClient\":2,\"anonymousFlag\":1,\"plusAvailable\":0,\"mobileVersion\":\"10.1.0\",\"productColor\":\"15.6英寸\",\"productSize\":\"【战66新品】R7-5800 16G 高色域\",\"textIntegral\":20,\"afterUserComment\":{\"id\":94443178,\"productId\":100018083778,\"content\":\"鼠标又不能用了\",\"commentId\":16179014406,\"clientType\":2,\"top\":false,\"delete\":false,\"hAfterUserComment\":{\"id\":94443178,\"content\":\"鼠标又不能用了\"},\"status\":1,\"modified\":\"2021-08-26 18:24:02\",\"created\":\"2021-08-26 18:23:47\"},\"extMap\":{\"buyCount\":1},\"status\":1,\"referenceId\":\"100018083778\",\"referenceTime\":\"2021-07-30 12:57:33\",\"nickname\":\"****x\",\"replyCount2\":1,\"userImage\":\"misc.360buyimg.com/user/myjd-2015/css/i/peisong.jpg\",\"orderId\":0,\"integral\":20,\"productSales\":\"[]\",\"referenceImage\":\"jfs/t1/39135/19/18154/57273/62f36e9eE2041133e/608596c2c34af445.jpg\",\"referenceName\":\"惠普(HP)战66五代 锐龙版 14英寸轻薄笔记本电脑(全新2022款锐龙 R7-5825U 16G 512G 高色域低功耗屏 长续航)\",\"firstCategory\":670,\"secondCategory\":671,\"thirdCategory\":672,\"aesPin\":null,\"days\":23,\"afterDays\":27}],\"soType\":5,\"csv\":\"eid=100^^tagid=BAD^^pid=20018^^sku=100032226552^^sversion=1001^^pageSize=63\",\"imageListCount\":500,\"hotCommentTagStatistics\":[{\"id\":\"a38999eabe1d7422\",\"name\":\"运行速快\",\"count\":1128,\"type\":4,\"canBeFiltered\":true,\"stand\":1,\"rid\":\"a38999eabe1d7422\",\"ckeKeyWordBury\":\"eid=100^^tagid=a38999eabe1d7422^^pid=20018^^sku=100032226570^^sversion=1000^^token=50cfb1ae67aef575\"},{\"id\":\"bf8a7e6407288e6d\",\"name\":\"方便快捷\",\"count\":321,\"type\":4,\"canBeFiltered\":true,\"stand\":1,\"rid\":\"bf8a7e6407288e6d\",\"ckeKeyWordBury\":\"eid=100^^tagid=bf8a7e6407288e6d^^pid=20018^^sku=100032226570^^sversion=1000^^token=cda03c126ed08e18\"},{\"id\":\"d04304b07be3f394\",\"name\":\"轻薄精巧\",\"count\":313,\"type\":4,\"canBeFiltered\":true,\"stand\":1,\"rid\":\"d04304b07be3f394\",\"ckeKeyWordBury\":\"eid=100^^tagid=d04304b07be3f394^^pid=20018^^sku=100032226570^^sversion=1000^^token=3e0fd7263cb633fc\"},{\"id\":\"b1ed9e915aec5abe\",\"name\":\"十分大气\",\"count\":310,\"type\":4,\"canBeFiltered\":true,\"stand\":1,\"rid\":\"b1ed9e915aec5abe\",\"ckeKeyWordBury\":\"eid=100^^tagid=b1ed9e915aec5abe^^pid=20018^^sku=100032226570^^sversion=1000^^token=4935d481d40c75a1\"},{\"id\":\"2a2422ee9d1f7dfc\",\"name\":\"反应灵敏\",\"count\":303,\"type\":4,\"canBeFiltered\":true,\"stand\":1,\"rid\":\"2a2422ee9d1f7dfc\",\"ckeKeyWordBury\":\"eid=100^^tagid=2a2422ee9d1f7dfc^^pid=20018^^sku=100032226570^^sversion=1000^^token=ba9417614ddff6ba\"},{\"id\":\"065a948bf6852012\",\"name\":\"简洁大方\",\"count\":157,\"type\":4,\"canBeFiltered\":true,\"stand\":1,\"rid\":\"065a948bf6852012\",\"ckeKeyWordBury\":\"eid=100^^tagid=065a948bf6852012^^pid=20018^^sku=100032226570^^sversion=1000^^token=11f74e4895fd51eb\"},{\"id\":\"5949c2545ef53ac3\",\"name\":\"运行超快\",\"count\":153,\"type\":4,\"canBeFiltered\":true,\"stand\":1,\"rid\":\"5949c2545ef53ac3\",\"ckeKeyWordBury\":\"eid=100^^tagid=5949c2545ef53ac3^^pid=20018^^sku=100032226570^^sversion=1000^^token=11910374d4ee2473\"},{\"id\":\"be4c76ce01b83386\",\"name\":\"简单方便\",\"count\":94,\"type\":4,\"canBeFiltered\":true,\"stand\":1,\"rid\":\"be4c76ce01b83386\",\"ckeKeyWordBury\":\"eid=100^^tagid=be4c76ce01b83386^^pid=20018^^sku=100032226570^^sversion=1000^^token=2e0f1cc1e66054c1\"},{\"id\":\"e70be6b97066270c\",\"name\":\"散热超快\",\"count\":93,\"type\":4,\"canBeFiltered\":true,\"stand\":1,\"rid\":\"e70be6b97066270c\",\"ckeKeyWordBury\":\"eid=100^^tagid=e70be6b97066270c^^pid=20018^^sku=100032226570^^sversion=1000^^token=b67723323ab33135\"},{\"id\":\"a24efc7968614a6b\",\"name\":\"超长续航\",\"count\":58,\"type\":4,\"canBeFiltered\":true,\"stand\":1,\"rid\":\"a24efc7968614a6b\",\"ckeKeyWordBury\":\"eid=100^^tagid=a24efc7968614a6b^^pid=20018^^sku=100032226570^^sversion=1000^^token=24457246c3c9910a\"},{\"id\":\"2df4fdbae69942d8\",\"name\":\"倍感舒适\",\"count\":49,\"type\":4,\"canBeFiltered\":true,\"stand\":1,\"rid\":\"2df4fdbae69942d8\",\"ckeKeyWordBury\":\"eid=100^^tagid=2df4fdbae69942d8^^pid=20018^^sku=100032226570^^sversion=1000^^token=aa9f39b1a27aecdb\"}],\"testId\":\"cmt\",\"vTagStatistics\":null,\"maxPage\":100,\"productCommentSummary\":{\"skuId\":100032226570,\"averageScore\":5,\"defaultGoodCount\":0,\"defaultGoodCountStr\":\"20万+\",\"commentCount\":0,\"commentCountStr\":\"20万+\",\"goodCount\":0,\"goodCountStr\":\"13万+\",\"goodRate\":0.96,\"goodRateShow\":96,\"generalCount\":0,\"generalCountStr\":\"2100+\",\"generalRate\":0.016,\"generalRateShow\":2,\"poorCount\":0,\"poorCountStr\":\"2400+\",\"poorRate\":0.024,\"poorRateShow\":2,\"videoCount\":0,\"videoCountStr\":\"7900+\",\"afterCount\":0,\"afterCountStr\":\"1.3万+\",\"showCount\":0,\"showCountStr\":\"9.1万+\",\"oneYear\":0,\"sensitiveBook\":0,\"fixCount\":0,\"plusCount\":0,\"plusCountStr\":\"0\",\"buyerShow\":0,\"poorRateStyle\":4,\"generalRateStyle\":2,\"goodRateStyle\":144,\"installRate\":0,\"productId\":100032226570,\"score1Count\":2423,\"score2Count\":688,\"score3Count\":1501,\"score4Count\":2962,\"score5Count\":128040},\"productAttr\":null});\n"
     ]
    }
   ],
   "source": [
    "res = requests.get(url,headers = headers , cookies = cookies)\n",
    "print (res.text)"
   ]
  },
  {
   "cell_type": "code",
   "execution_count": 3,
   "metadata": {},
   "outputs": [
    {
     "name": "stdout",
     "output_type": "stream",
     "text": [
      "['2021-01-17 19:26:11', '2020-05-21 07:05:25', '2021-07-09 22:32:22', '2020-08-14 15:49:00', '2020-06-11 18:53:11', '2021-06-15 21:10:02', '2020-10-20 12:15:39', '2021-02-22 21:30:53', '2020-12-11 18:37:47', '2021-08-22 19:36:05']\n"
     ]
    }
   ],
   "source": [
    "import re\n",
    "pat1 = re.compile(r'\"creationTime\":\"(\\d+\\-\\d+\\-\\d+\\s\\d+\\W\\d+\\W\\d+)\",\"isDelete\"')\n",
    "print(pat1.findall(res.text))"
   ]
  },
  {
   "cell_type": "code",
   "execution_count": 4,
   "metadata": {},
   "outputs": [
    {
     "name": "stdout",
     "output_type": "stream",
     "text": [
      "['屏幕效果：打开小窗口感觉边缘都是糊的，看起来很不舒服\",\"vcontent\":\"{$%&屏幕效果：&%$}打开小窗口感觉边缘都是糊的，看起来很不舒服', '很差，我都怀疑是不是给了我二手机', '什么鬼垃圾，拿到手问题超级多，垃圾电脑，再也不会用', '塑料感满满，好差劲啊', '运行速度：慢  开机慢的很 加载十分钟\\\\n散热性能：差\",\"vcontent\":\"{$%&运行速度：&%$}慢  开机慢的很 加载十分钟\\\\n{$%&散热性能：&%$}差', '搞活动时候守到凌晨买的，结果一过七天又降价三百，太套路了，气人！！！', '开机非常难，我现在直接开不了机，买回来就用了几次', '真心垃圾，各种小问题，建议谨慎入手']\n"
     ]
    }
   ],
   "source": [
    "#pat2 = re.compile(r'\"content\":\"([\\s\\S]*?)\",\"creationTime\"')\n",
    "pat2 = re.compile(r'\"guid\":\"\\w+\",\"content\":\"([\\s\\S]*?)\",\"creationTime\"')\n",
    "print(pat2.findall(res.text))"
   ]
  },
  {
   "cell_type": "code",
   "execution_count": 5,
   "metadata": {},
   "outputs": [
    {
     "name": "stdout",
     "output_type": "stream",
     "text": [
      "['1', '1']\n"
     ]
    }
   ],
   "source": [
    "pat3 = re.compile(r'\"score\":(\\d),\"imageStatus\"')\n",
    "#pat3 = re.compile(r'\"replyCount\":\\d,\"score\":(\\d)')\n",
    "print(pat3.findall(res.text))"
   ]
  },
  {
   "cell_type": "code",
   "execution_count": 6,
   "metadata": {},
   "outputs": [
    {
     "name": "stdout",
     "output_type": "stream",
     "text": [
      "['15213729412', '14177248990', '15956685175', '14529814971', '14270717410', '15811901250', '14775141033', '15341488353', '15030598635', '16179014406']\n"
     ]
    }
   ],
   "source": [
    "pat4 = re.compile(r'\"id\":(\\d+),\"guid\"')\n",
    "print(pat4.findall(res.text))"
   ]
  },
  {
   "cell_type": "code",
   "execution_count": 7,
   "metadata": {},
   "outputs": [
    {
     "name": "stdout",
     "output_type": "stream",
     "text": [
      "爬取完成第0页\n",
      "10\n",
      "10\n",
      "10\n",
      "10\n",
      "爬取完成第1页\n",
      "20\n",
      "20\n",
      "20\n",
      "20\n",
      "爬取完成第2页\n",
      "30\n",
      "30\n",
      "30\n",
      "30\n",
      "爬取完成第3页\n",
      "40\n",
      "40\n",
      "40\n",
      "40\n",
      "爬取完成第4页\n",
      "50\n",
      "50\n",
      "50\n",
      "50\n",
      "爬取完成第5页\n",
      "60\n",
      "60\n",
      "60\n",
      "60\n",
      "爬取完成第6页\n",
      "70\n",
      "70\n",
      "70\n",
      "70\n",
      "爬取完成第7页\n",
      "80\n",
      "80\n",
      "80\n",
      "80\n",
      "爬取完成第8页\n",
      "90\n",
      "90\n",
      "90\n",
      "90\n",
      "爬取完成第9页\n",
      "100\n",
      "100\n",
      "100\n",
      "100\n"
     ]
    }
   ],
   "source": [
    "import time\n",
    "import random\n",
    "import pandas as pd\n",
    "items = []\n",
    "for item in items:\n",
    "    times = []\n",
    "    comments = []\n",
    "    ids = []\n",
    "    scores = []\n",
    "    for i in range(0,10):\n",
    "        url = 'https://club.jd.com/comment/productPageComments.action?callback=fetchJSON_comment98&productId={}&score=1&sortType=5&page={}&pageSize=10&isShadowSku=0&fold=1'.format(item,i) \n",
    "        res=requests.get(url,headers=headers,cookies=cookies)\n",
    "        times += pat1.findall(res.text)\n",
    "        comments += pat2.findall(res.text)\n",
    "        ids += pat4.findall(res.text)\n",
    "        scores += pat3.findall(res.text)\n",
    "        print('爬取完成第%s页'%i)\n",
    "        print(len(ids))\n",
    "        print(len(times))\n",
    "        print(len(scores))\n",
    "        print(len(comments))\n",
    "        time.sleep(random.random()*4)\n",
    "    data = pd.DataFrame()\n",
    "    data['时间'] = times\n",
    "    data['id'] = ids\n",
    "    data['分数'] = scores\n",
    "    data['内容'] = comments\n",
    "    num=0\n",
    "    for a in items:\n",
    "        if a!=item:\n",
    "            num=num+1\n",
    "        else:\n",
    "            break\n",
    "    #data.to_csv('item{}_positive.csv'.format(1+num),index=False)\n",
    "    data.to_csv('item{}_negative.csv'.format(1+num),index=False)"
   ]
  }
 ],
 "metadata": {
  "kernelspec": {
   "display_name": "Python 3",
   "language": "python",
   "name": "python3"
  },
  "language_info": {
   "codemirror_mode": {
    "name": "ipython",
    "version": 3
   },
   "file_extension": ".py",
   "mimetype": "text/x-python",
   "name": "python",
   "nbconvert_exporter": "python",
   "pygments_lexer": "ipython3",
   "version": "3.7.0"
  }
 },
 "nbformat": 4,
 "nbformat_minor": 2
}
