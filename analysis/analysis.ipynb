{
 "cells": [
  {
   "cell_type": "markdown",
   "metadata": {
    "pycharm": {
     "name": "#%% md\n"
    }
   },
   "source": [
    "# 情感分类"
   ]
  },
  {
   "cell_type": "markdown",
   "metadata": {
    "pycharm": {
     "name": "#%% md\n"
    }
   },
   "source": [
    "### 引入库"
   ]
  },
  {
   "cell_type": "code",
   "execution_count": 1,
   "metadata": {
    "pycharm": {
     "name": "#%%\n"
    }
   },
   "outputs": [],
   "source": [
    "import pandas as pd\n",
    "import numpy as np\n",
    "import warnings\n",
    "import jieba\n",
    "import re\n",
    "from sklearn.feature_extraction.text import CountVectorizer\n",
    "from sklearn.feature_extraction.text import TfidfTransformer\n",
    "import matplotlib.pyplot as plt\n",
    "\n",
    "plt.rcParams[\"font.sans-serif\"] = ['SimHei']    #字体指定\n",
    "plt.rcParams['axes.unicode_minus'] = False      #显示负号，停用减号\n",
    "\n",
    "warnings.filterwarnings(\"ignore\")"
   ]
  },
  {
   "cell_type": "markdown",
   "metadata": {
    "pycharm": {
     "name": "#%% md\n"
    }
   },
   "source": [
    "### 读取数据"
   ]
  },
  {
   "cell_type": "code",
   "execution_count": 2,
   "metadata": {
    "pycharm": {
     "name": "#%%\n"
    }
   },
   "outputs": [
    {
     "data": {
      "text/plain": "                                                   内容\n0                                     连个鼠标垫都没有，抠门扣到家了\n1                                  刚买两天就降价，多买个鼠标还不能保价\n2                                 新电脑刚买的   系统更新下 就这样了\n3                                         还不到十天就降价。厉害\n4                                          刚买完就降了两百块钱\n5                                      播放音乐声音时大时小有时无声\n6                           刚买十二天就降了200块钱，充电器还有点问题，??\n7                               蹭到，退换还要检测，15个工作日内真是呵呵\n8                                     变动大，建议入手rmb斯伍叉叉\n9                             买了一个月闪屏，换的新电脑漏电&hellip;\n10                                      不好 发热烫手 价格买贵了\n11                                 充电的时候有滋滋声。。。影响使用效果\n12                                        用不到一个月开不了机了\n13                                  这就是发过来的钢化膜，差点碎成渣了\n14                                       没完成配送，也不送货上门\n15                                买了不到一个月骤降300\\n价保7天?\n16                                       刚到手几天就连续死机2次\n17                                 电脑有问题，处理慢，而且买回来有污垢\n18                                   客服服务态度及其不好，发消息不回\n19                                         电源适配器差一个插头\n20                                  刚买了不到10天，就降价了，挺惨的\n21                                       啥也不是连个手提包都没有\n22                                         货物不检查清楚就发货\n23                                      收货不久就降价，质量还可以\n24                                     几天就降价300，买了个寂寞\n25                                       一个月降了一千，不保值。\n26                                       第二天就莫名其妙看不了机\n27                                    客服不承认商品页面的保价618\n28                                    增值服务分开配送能不能提示好！\n29                                才买多久降了300，转轴感觉不行又异响\n..                                                ...\n70                                         风扇非常响，突然黑屏\n71                                        感觉屏幕很差劲，不清晰\n72                                       垃圾，服务太差，效率太慢\n73                              客户至上意识太差，竟然用其他客户退货的产品\n74                                这么个标配连个包都没有。简直差评差评。\n75  垃圾两天坏一次我都快搞崩溃了，这中奖的概率让我遇到了吗？一直对think印象不错这次颠覆了我的认知\n76                                  电脑包都不送，差评，鼠标也没有差评\n77                                 垃圾中的战斗机，不到一个月主板就坏了\n78                           屏幕太垃圾了，看的吃力，蓝牙反应好慢，连接不上。\n79                次品，，自营店竟然拿次品货进行销售。大家共同抵制，京东再无次品和假货。\n80  风扇声音太大。。一直转。CAD还老死机\\n散热性能：不太好。\",\"vcontent\":\"风扇...\n81  运行速度：慢\\n其他特色：买来一个月 网上不去不说 运行软件真的慢的要死\",\"vconten...\n82  我对京东换货很失望。收到新电脑显示器有一个坏点。换货结果给我寄来一台返修机。只能退货重新重再...\n83                           竟然发开过封的产品给客户，品质意识，服务意识太差\n84          对这个店真的无奈了，一直推诿扯皮，一个月了都没任何消息。太糟心了，找客服也找不到。\n85                                   笔记本，不带鼠标，也没有包，太差\n86  散热性能：用两天机器就高温！风扇异响，声音很大！\",\"vcontent\":\"{$%&散热性能...\n87       买来不够一个月，看个电视剧还死机，还一直开不了，联系客服还说不关他们事，就这质量这服务？\n88                  很烂的笔记本  谁买谁后悔 不玩游戏 就画个60mb的cad都不行\n89  第一次京东这边消费，8千东西什么都没送，就一个电脑笔记本，鼠标和手提袋，一个都没送，别的平台...\n90   售后一点都不专业，解决问题靠试，二个客服加一个客户，搞了几个小时还没有解决，垃圾售后，垃圾客服。\n91                       太烂的电脑，建议大家不要买！关机也要死机，注销也要死机。\n92                            风扇声音太大，裸机太重，也很厚，标注的是轻薄本\n93                              散热性能垃圾，买之前也没注意电池是内置的，\n94  打电话给客服，知道大概是这么个情况：10号申请退货京东当天把货拿走了，10号财务把发票给寄了...\n95  十月二号到货开机注册激活，十月三号再开机插上电源线边充电边使用机器就呼啦啦的响，cpu，内存...\n96  支持联系产品，京东太赖，搞个双十一预售，下了单，结果到时间付款还是一样的价格，一样价格也就算...\n97                              机器声音大也就忍了，连个最基本的鼠标都没有\n98          垃圾玩意，键盘一敲电脑跟散架了似的，屏幕偏左。京东还推荐我加购买质量保险？？？？？\n99                   活动太坑了，提前交了定金预定什么赠品都没有，购买现拍的还有正品。\n\n[5000 rows x 1 columns]",
      "text/html": "<div>\n<style scoped>\n    .dataframe tbody tr th:only-of-type {\n        vertical-align: middle;\n    }\n\n    .dataframe tbody tr th {\n        vertical-align: top;\n    }\n\n    .dataframe thead th {\n        text-align: right;\n    }\n</style>\n<table border=\"1\" class=\"dataframe\">\n  <thead>\n    <tr style=\"text-align: right;\">\n      <th></th>\n      <th>内容</th>\n    </tr>\n  </thead>\n  <tbody>\n    <tr>\n      <th>0</th>\n      <td>连个鼠标垫都没有，抠门扣到家了</td>\n    </tr>\n    <tr>\n      <th>1</th>\n      <td>刚买两天就降价，多买个鼠标还不能保价</td>\n    </tr>\n    <tr>\n      <th>2</th>\n      <td>新电脑刚买的   系统更新下 就这样了</td>\n    </tr>\n    <tr>\n      <th>3</th>\n      <td>还不到十天就降价。厉害</td>\n    </tr>\n    <tr>\n      <th>4</th>\n      <td>刚买完就降了两百块钱</td>\n    </tr>\n    <tr>\n      <th>5</th>\n      <td>播放音乐声音时大时小有时无声</td>\n    </tr>\n    <tr>\n      <th>6</th>\n      <td>刚买十二天就降了200块钱，充电器还有点问题，??</td>\n    </tr>\n    <tr>\n      <th>7</th>\n      <td>蹭到，退换还要检测，15个工作日内真是呵呵</td>\n    </tr>\n    <tr>\n      <th>8</th>\n      <td>变动大，建议入手rmb斯伍叉叉</td>\n    </tr>\n    <tr>\n      <th>9</th>\n      <td>买了一个月闪屏，换的新电脑漏电&amp;hellip;</td>\n    </tr>\n    <tr>\n      <th>10</th>\n      <td>不好 发热烫手 价格买贵了</td>\n    </tr>\n    <tr>\n      <th>11</th>\n      <td>充电的时候有滋滋声。。。影响使用效果</td>\n    </tr>\n    <tr>\n      <th>12</th>\n      <td>用不到一个月开不了机了</td>\n    </tr>\n    <tr>\n      <th>13</th>\n      <td>这就是发过来的钢化膜，差点碎成渣了</td>\n    </tr>\n    <tr>\n      <th>14</th>\n      <td>没完成配送，也不送货上门</td>\n    </tr>\n    <tr>\n      <th>15</th>\n      <td>买了不到一个月骤降300\\n价保7天?</td>\n    </tr>\n    <tr>\n      <th>16</th>\n      <td>刚到手几天就连续死机2次</td>\n    </tr>\n    <tr>\n      <th>17</th>\n      <td>电脑有问题，处理慢，而且买回来有污垢</td>\n    </tr>\n    <tr>\n      <th>18</th>\n      <td>客服服务态度及其不好，发消息不回</td>\n    </tr>\n    <tr>\n      <th>19</th>\n      <td>电源适配器差一个插头</td>\n    </tr>\n    <tr>\n      <th>20</th>\n      <td>刚买了不到10天，就降价了，挺惨的</td>\n    </tr>\n    <tr>\n      <th>21</th>\n      <td>啥也不是连个手提包都没有</td>\n    </tr>\n    <tr>\n      <th>22</th>\n      <td>货物不检查清楚就发货</td>\n    </tr>\n    <tr>\n      <th>23</th>\n      <td>收货不久就降价，质量还可以</td>\n    </tr>\n    <tr>\n      <th>24</th>\n      <td>几天就降价300，买了个寂寞</td>\n    </tr>\n    <tr>\n      <th>25</th>\n      <td>一个月降了一千，不保值。</td>\n    </tr>\n    <tr>\n      <th>26</th>\n      <td>第二天就莫名其妙看不了机</td>\n    </tr>\n    <tr>\n      <th>27</th>\n      <td>客服不承认商品页面的保价618</td>\n    </tr>\n    <tr>\n      <th>28</th>\n      <td>增值服务分开配送能不能提示好！</td>\n    </tr>\n    <tr>\n      <th>29</th>\n      <td>才买多久降了300，转轴感觉不行又异响</td>\n    </tr>\n    <tr>\n      <th>...</th>\n      <td>...</td>\n    </tr>\n    <tr>\n      <th>70</th>\n      <td>风扇非常响，突然黑屏</td>\n    </tr>\n    <tr>\n      <th>71</th>\n      <td>感觉屏幕很差劲，不清晰</td>\n    </tr>\n    <tr>\n      <th>72</th>\n      <td>垃圾，服务太差，效率太慢</td>\n    </tr>\n    <tr>\n      <th>73</th>\n      <td>客户至上意识太差，竟然用其他客户退货的产品</td>\n    </tr>\n    <tr>\n      <th>74</th>\n      <td>这么个标配连个包都没有。简直差评差评。</td>\n    </tr>\n    <tr>\n      <th>75</th>\n      <td>垃圾两天坏一次我都快搞崩溃了，这中奖的概率让我遇到了吗？一直对think印象不错这次颠覆了我的认知</td>\n    </tr>\n    <tr>\n      <th>76</th>\n      <td>电脑包都不送，差评，鼠标也没有差评</td>\n    </tr>\n    <tr>\n      <th>77</th>\n      <td>垃圾中的战斗机，不到一个月主板就坏了</td>\n    </tr>\n    <tr>\n      <th>78</th>\n      <td>屏幕太垃圾了，看的吃力，蓝牙反应好慢，连接不上。</td>\n    </tr>\n    <tr>\n      <th>79</th>\n      <td>次品，，自营店竟然拿次品货进行销售。大家共同抵制，京东再无次品和假货。</td>\n    </tr>\n    <tr>\n      <th>80</th>\n      <td>风扇声音太大。。一直转。CAD还老死机\\n散热性能：不太好。\",\"vcontent\":\"风扇...</td>\n    </tr>\n    <tr>\n      <th>81</th>\n      <td>运行速度：慢\\n其他特色：买来一个月 网上不去不说 运行软件真的慢的要死\",\"vconten...</td>\n    </tr>\n    <tr>\n      <th>82</th>\n      <td>我对京东换货很失望。收到新电脑显示器有一个坏点。换货结果给我寄来一台返修机。只能退货重新重再...</td>\n    </tr>\n    <tr>\n      <th>83</th>\n      <td>竟然发开过封的产品给客户，品质意识，服务意识太差</td>\n    </tr>\n    <tr>\n      <th>84</th>\n      <td>对这个店真的无奈了，一直推诿扯皮，一个月了都没任何消息。太糟心了，找客服也找不到。</td>\n    </tr>\n    <tr>\n      <th>85</th>\n      <td>笔记本，不带鼠标，也没有包，太差</td>\n    </tr>\n    <tr>\n      <th>86</th>\n      <td>散热性能：用两天机器就高温！风扇异响，声音很大！\",\"vcontent\":\"{$%&amp;散热性能...</td>\n    </tr>\n    <tr>\n      <th>87</th>\n      <td>买来不够一个月，看个电视剧还死机，还一直开不了，联系客服还说不关他们事，就这质量这服务？</td>\n    </tr>\n    <tr>\n      <th>88</th>\n      <td>很烂的笔记本  谁买谁后悔 不玩游戏 就画个60mb的cad都不行</td>\n    </tr>\n    <tr>\n      <th>89</th>\n      <td>第一次京东这边消费，8千东西什么都没送，就一个电脑笔记本，鼠标和手提袋，一个都没送，别的平台...</td>\n    </tr>\n    <tr>\n      <th>90</th>\n      <td>售后一点都不专业，解决问题靠试，二个客服加一个客户，搞了几个小时还没有解决，垃圾售后，垃圾客服。</td>\n    </tr>\n    <tr>\n      <th>91</th>\n      <td>太烂的电脑，建议大家不要买！关机也要死机，注销也要死机。</td>\n    </tr>\n    <tr>\n      <th>92</th>\n      <td>风扇声音太大，裸机太重，也很厚，标注的是轻薄本</td>\n    </tr>\n    <tr>\n      <th>93</th>\n      <td>散热性能垃圾，买之前也没注意电池是内置的，</td>\n    </tr>\n    <tr>\n      <th>94</th>\n      <td>打电话给客服，知道大概是这么个情况：10号申请退货京东当天把货拿走了，10号财务把发票给寄了...</td>\n    </tr>\n    <tr>\n      <th>95</th>\n      <td>十月二号到货开机注册激活，十月三号再开机插上电源线边充电边使用机器就呼啦啦的响，cpu，内存...</td>\n    </tr>\n    <tr>\n      <th>96</th>\n      <td>支持联系产品，京东太赖，搞个双十一预售，下了单，结果到时间付款还是一样的价格，一样价格也就算...</td>\n    </tr>\n    <tr>\n      <th>97</th>\n      <td>机器声音大也就忍了，连个最基本的鼠标都没有</td>\n    </tr>\n    <tr>\n      <th>98</th>\n      <td>垃圾玩意，键盘一敲电脑跟散架了似的，屏幕偏左。京东还推荐我加购买质量保险？？？？？</td>\n    </tr>\n    <tr>\n      <th>99</th>\n      <td>活动太坑了，提前交了定金预定什么赠品都没有，购买现拍的还有正品。</td>\n    </tr>\n  </tbody>\n</table>\n<p>5000 rows × 1 columns</p>\n</div>"
     },
     "execution_count": 2,
     "metadata": {},
     "output_type": "execute_result"
    }
   ],
   "source": [
    "file = 'data/positive/item{}_positive.csv'\n",
    "df_list = []\n",
    "for i in range(1, 51):\n",
    "    df_list.append(pd.read_csv(file.format(i)))\n",
    "df1= pd.DataFrame()\n",
    "df1 = pd.concat(df_list)\n",
    "\n",
    "file = 'data/negative/item{}_negative.csv'\n",
    "df_list = []\n",
    "for i in range(1, 51):\n",
    "    df_list.append(pd.read_csv(file.format(i)))\n",
    "df2= pd.DataFrame()\n",
    "df2 = pd.concat(df_list)\n",
    "df1[[\"内容\"]]\n",
    "df2[[\"内容\"]]"
   ]
  },
  {
   "cell_type": "code",
   "execution_count": 3,
   "metadata": {
    "pycharm": {
     "name": "#%%\n"
    }
   },
   "outputs": [],
   "source": [
    "data1 = pd.DataFrame()\n",
    "data1['message'] = df1['内容']\n",
    "data1['sentiment'] = 0  #好评打标签为0\n",
    "data2 = pd.DataFrame()\n",
    "data2['message'] = df2['内容']\n",
    "data2['sentiment'] = 1  #差评打标签为1"
   ]
  },
  {
   "cell_type": "code",
   "execution_count": 4,
   "metadata": {
    "pycharm": {
     "name": "#%%\n"
    }
   },
   "outputs": [
    {
     "data": {
      "text/plain": "                                               message  sentiment\n0                                      连个鼠标垫都没有，抠门扣到家了          1\n1                                   刚买两天就降价，多买个鼠标还不能保价          1\n2                                  新电脑刚买的   系统更新下 就这样了          1\n3                                          还不到十天就降价。厉害          1\n4                                           刚买完就降了两百块钱          1\n5                                       播放音乐声音时大时小有时无声          1\n6                            刚买十二天就降了200块钱，充电器还有点问题，??          1\n7                                蹭到，退换还要检测，15个工作日内真是呵呵          1\n8                                      变动大，建议入手rmb斯伍叉叉          1\n9                              买了一个月闪屏，换的新电脑漏电&hellip;          1\n10                                       不好 发热烫手 价格买贵了          1\n11                                  充电的时候有滋滋声。。。影响使用效果          1\n12                                         用不到一个月开不了机了          1\n13                                   这就是发过来的钢化膜，差点碎成渣了          1\n14                                        没完成配送，也不送货上门          1\n15                                 买了不到一个月骤降300\\n价保7天?          1\n16                                        刚到手几天就连续死机2次          1\n17                                  电脑有问题，处理慢，而且买回来有污垢          1\n18                                    客服服务态度及其不好，发消息不回          1\n19                                          电源适配器差一个插头          1\n20                                   刚买了不到10天，就降价了，挺惨的          1\n21                                        啥也不是连个手提包都没有          1\n22                                          货物不检查清楚就发货          1\n23                                       收货不久就降价，质量还可以          1\n24                                      几天就降价300，买了个寂寞          1\n25                                        一个月降了一千，不保值。          1\n26                                        第二天就莫名其妙看不了机          1\n27                                     客服不承认商品页面的保价618          1\n28                                     增值服务分开配送能不能提示好！          1\n29                                 才买多久降了300，转轴感觉不行又异响          1\n..                                                 ...        ...\n970                                  电脑不错，反应很快，送的东西很全。          0\n971                             高颜值，高性价，大品牌，超级牛，喜欢的宝贝。          0\n972                                   不错，还送了一堆的配件，太满意了          0\n973                               物流非常快，电脑包装非常好，用起来很快，          0\n974                                 质量很好运行快特别是摄像头还是隐藏的          0\n975                                      外观很喜欢，很漂亮，很合适          0\n976  很满意很好\\n运行速度：很快\",\"vcontent\":\"很满意很好\\n{$%&运行速度：&%...          0\n977             大品牌，用起来很放心，质量非常好，赶上活动购买非常的划算,客服真的很不错哦～          0\n978                                    运行速度快，开机速度也是杠杠的          0\n979  运行速度：很快\\n屏幕效果：清晰\\n散热性能：很好\\n外形外观：轻薄美观，高贵的银色\\n轻薄...          0\n980                                     非常好，很轻薄，孩子很喜欢，          0\n981                                    速度很快？颜值超高！优惠也多！          0\n982                              非常愉快的购物，大小刚合适，赠品也好！！！          0\n983                                到货速度快，机器也很不错，是喜欢的样子          0\n984                            发货很快 服务态度也很好 是一次很愉快的购物呢          0\n985                                    目前是非常顺畅的，办公用足够了          0\n986                                   速度很快，系统速度很快。。。。。          0\n987                                     日常办公完全够用，颜值也很棒          0\n988                                     笔记本电脑非常轻  外形美观          0\n989                                  这个电脑?用起来非常的好，值得购买          0\n990  其他特色：收到货就开始上网课了杠杠的\",\"vcontent\":\"{$%&其他特色：&%$}收...          0\n991                                 东西很好，和图片一样。客服也很是满意          0\n992                           店家发货非常快，服务态度超好，一次很愉快的购物。          0\n993                                  挺好的外观高大上，和描述一下是正品          0\n994                                     电脑很好，速度很快，值得购买          0\n995  第一次买华为电脑,开机很流畅,第一次的开始设置很友好,不用想太多,直接跟着默认设置,很快就把...          0\n996                                      电脑运行速度很快，外形好看          0\n997                           笔记本的外观很漂亮，拿到手里很有分量，做工很精细          0\n998                                      外观很是不错，键盘手感很好          0\n999                                 本子收到了，物流超快。宝贝用着不错。          0\n\n[55000 rows x 2 columns]",
      "text/html": "<div>\n<style scoped>\n    .dataframe tbody tr th:only-of-type {\n        vertical-align: middle;\n    }\n\n    .dataframe tbody tr th {\n        vertical-align: top;\n    }\n\n    .dataframe thead th {\n        text-align: right;\n    }\n</style>\n<table border=\"1\" class=\"dataframe\">\n  <thead>\n    <tr style=\"text-align: right;\">\n      <th></th>\n      <th>message</th>\n      <th>sentiment</th>\n    </tr>\n  </thead>\n  <tbody>\n    <tr>\n      <th>0</th>\n      <td>连个鼠标垫都没有，抠门扣到家了</td>\n      <td>1</td>\n    </tr>\n    <tr>\n      <th>1</th>\n      <td>刚买两天就降价，多买个鼠标还不能保价</td>\n      <td>1</td>\n    </tr>\n    <tr>\n      <th>2</th>\n      <td>新电脑刚买的   系统更新下 就这样了</td>\n      <td>1</td>\n    </tr>\n    <tr>\n      <th>3</th>\n      <td>还不到十天就降价。厉害</td>\n      <td>1</td>\n    </tr>\n    <tr>\n      <th>4</th>\n      <td>刚买完就降了两百块钱</td>\n      <td>1</td>\n    </tr>\n    <tr>\n      <th>5</th>\n      <td>播放音乐声音时大时小有时无声</td>\n      <td>1</td>\n    </tr>\n    <tr>\n      <th>6</th>\n      <td>刚买十二天就降了200块钱，充电器还有点问题，??</td>\n      <td>1</td>\n    </tr>\n    <tr>\n      <th>7</th>\n      <td>蹭到，退换还要检测，15个工作日内真是呵呵</td>\n      <td>1</td>\n    </tr>\n    <tr>\n      <th>8</th>\n      <td>变动大，建议入手rmb斯伍叉叉</td>\n      <td>1</td>\n    </tr>\n    <tr>\n      <th>9</th>\n      <td>买了一个月闪屏，换的新电脑漏电&amp;hellip;</td>\n      <td>1</td>\n    </tr>\n    <tr>\n      <th>10</th>\n      <td>不好 发热烫手 价格买贵了</td>\n      <td>1</td>\n    </tr>\n    <tr>\n      <th>11</th>\n      <td>充电的时候有滋滋声。。。影响使用效果</td>\n      <td>1</td>\n    </tr>\n    <tr>\n      <th>12</th>\n      <td>用不到一个月开不了机了</td>\n      <td>1</td>\n    </tr>\n    <tr>\n      <th>13</th>\n      <td>这就是发过来的钢化膜，差点碎成渣了</td>\n      <td>1</td>\n    </tr>\n    <tr>\n      <th>14</th>\n      <td>没完成配送，也不送货上门</td>\n      <td>1</td>\n    </tr>\n    <tr>\n      <th>15</th>\n      <td>买了不到一个月骤降300\\n价保7天?</td>\n      <td>1</td>\n    </tr>\n    <tr>\n      <th>16</th>\n      <td>刚到手几天就连续死机2次</td>\n      <td>1</td>\n    </tr>\n    <tr>\n      <th>17</th>\n      <td>电脑有问题，处理慢，而且买回来有污垢</td>\n      <td>1</td>\n    </tr>\n    <tr>\n      <th>18</th>\n      <td>客服服务态度及其不好，发消息不回</td>\n      <td>1</td>\n    </tr>\n    <tr>\n      <th>19</th>\n      <td>电源适配器差一个插头</td>\n      <td>1</td>\n    </tr>\n    <tr>\n      <th>20</th>\n      <td>刚买了不到10天，就降价了，挺惨的</td>\n      <td>1</td>\n    </tr>\n    <tr>\n      <th>21</th>\n      <td>啥也不是连个手提包都没有</td>\n      <td>1</td>\n    </tr>\n    <tr>\n      <th>22</th>\n      <td>货物不检查清楚就发货</td>\n      <td>1</td>\n    </tr>\n    <tr>\n      <th>23</th>\n      <td>收货不久就降价，质量还可以</td>\n      <td>1</td>\n    </tr>\n    <tr>\n      <th>24</th>\n      <td>几天就降价300，买了个寂寞</td>\n      <td>1</td>\n    </tr>\n    <tr>\n      <th>25</th>\n      <td>一个月降了一千，不保值。</td>\n      <td>1</td>\n    </tr>\n    <tr>\n      <th>26</th>\n      <td>第二天就莫名其妙看不了机</td>\n      <td>1</td>\n    </tr>\n    <tr>\n      <th>27</th>\n      <td>客服不承认商品页面的保价618</td>\n      <td>1</td>\n    </tr>\n    <tr>\n      <th>28</th>\n      <td>增值服务分开配送能不能提示好！</td>\n      <td>1</td>\n    </tr>\n    <tr>\n      <th>29</th>\n      <td>才买多久降了300，转轴感觉不行又异响</td>\n      <td>1</td>\n    </tr>\n    <tr>\n      <th>...</th>\n      <td>...</td>\n      <td>...</td>\n    </tr>\n    <tr>\n      <th>970</th>\n      <td>电脑不错，反应很快，送的东西很全。</td>\n      <td>0</td>\n    </tr>\n    <tr>\n      <th>971</th>\n      <td>高颜值，高性价，大品牌，超级牛，喜欢的宝贝。</td>\n      <td>0</td>\n    </tr>\n    <tr>\n      <th>972</th>\n      <td>不错，还送了一堆的配件，太满意了</td>\n      <td>0</td>\n    </tr>\n    <tr>\n      <th>973</th>\n      <td>物流非常快，电脑包装非常好，用起来很快，</td>\n      <td>0</td>\n    </tr>\n    <tr>\n      <th>974</th>\n      <td>质量很好运行快特别是摄像头还是隐藏的</td>\n      <td>0</td>\n    </tr>\n    <tr>\n      <th>975</th>\n      <td>外观很喜欢，很漂亮，很合适</td>\n      <td>0</td>\n    </tr>\n    <tr>\n      <th>976</th>\n      <td>很满意很好\\n运行速度：很快\",\"vcontent\":\"很满意很好\\n{$%&amp;运行速度：&amp;%...</td>\n      <td>0</td>\n    </tr>\n    <tr>\n      <th>977</th>\n      <td>大品牌，用起来很放心，质量非常好，赶上活动购买非常的划算,客服真的很不错哦～</td>\n      <td>0</td>\n    </tr>\n    <tr>\n      <th>978</th>\n      <td>运行速度快，开机速度也是杠杠的</td>\n      <td>0</td>\n    </tr>\n    <tr>\n      <th>979</th>\n      <td>运行速度：很快\\n屏幕效果：清晰\\n散热性能：很好\\n外形外观：轻薄美观，高贵的银色\\n轻薄...</td>\n      <td>0</td>\n    </tr>\n    <tr>\n      <th>980</th>\n      <td>非常好，很轻薄，孩子很喜欢，</td>\n      <td>0</td>\n    </tr>\n    <tr>\n      <th>981</th>\n      <td>速度很快？颜值超高！优惠也多！</td>\n      <td>0</td>\n    </tr>\n    <tr>\n      <th>982</th>\n      <td>非常愉快的购物，大小刚合适，赠品也好！！！</td>\n      <td>0</td>\n    </tr>\n    <tr>\n      <th>983</th>\n      <td>到货速度快，机器也很不错，是喜欢的样子</td>\n      <td>0</td>\n    </tr>\n    <tr>\n      <th>984</th>\n      <td>发货很快 服务态度也很好 是一次很愉快的购物呢</td>\n      <td>0</td>\n    </tr>\n    <tr>\n      <th>985</th>\n      <td>目前是非常顺畅的，办公用足够了</td>\n      <td>0</td>\n    </tr>\n    <tr>\n      <th>986</th>\n      <td>速度很快，系统速度很快。。。。。</td>\n      <td>0</td>\n    </tr>\n    <tr>\n      <th>987</th>\n      <td>日常办公完全够用，颜值也很棒</td>\n      <td>0</td>\n    </tr>\n    <tr>\n      <th>988</th>\n      <td>笔记本电脑非常轻  外形美观</td>\n      <td>0</td>\n    </tr>\n    <tr>\n      <th>989</th>\n      <td>这个电脑?用起来非常的好，值得购买</td>\n      <td>0</td>\n    </tr>\n    <tr>\n      <th>990</th>\n      <td>其他特色：收到货就开始上网课了杠杠的\",\"vcontent\":\"{$%&amp;其他特色：&amp;%$}收...</td>\n      <td>0</td>\n    </tr>\n    <tr>\n      <th>991</th>\n      <td>东西很好，和图片一样。客服也很是满意</td>\n      <td>0</td>\n    </tr>\n    <tr>\n      <th>992</th>\n      <td>店家发货非常快，服务态度超好，一次很愉快的购物。</td>\n      <td>0</td>\n    </tr>\n    <tr>\n      <th>993</th>\n      <td>挺好的外观高大上，和描述一下是正品</td>\n      <td>0</td>\n    </tr>\n    <tr>\n      <th>994</th>\n      <td>电脑很好，速度很快，值得购买</td>\n      <td>0</td>\n    </tr>\n    <tr>\n      <th>995</th>\n      <td>第一次买华为电脑,开机很流畅,第一次的开始设置很友好,不用想太多,直接跟着默认设置,很快就把...</td>\n      <td>0</td>\n    </tr>\n    <tr>\n      <th>996</th>\n      <td>电脑运行速度很快，外形好看</td>\n      <td>0</td>\n    </tr>\n    <tr>\n      <th>997</th>\n      <td>笔记本的外观很漂亮，拿到手里很有分量，做工很精细</td>\n      <td>0</td>\n    </tr>\n    <tr>\n      <th>998</th>\n      <td>外观很是不错，键盘手感很好</td>\n      <td>0</td>\n    </tr>\n    <tr>\n      <th>999</th>\n      <td>本子收到了，物流超快。宝贝用着不错。</td>\n      <td>0</td>\n    </tr>\n  </tbody>\n</table>\n<p>55000 rows × 2 columns</p>\n</div>"
     },
     "execution_count": 4,
     "metadata": {},
     "output_type": "execute_result"
    }
   ],
   "source": [
    "data = pd.concat([data2,data1])\n",
    "data"
   ]
  },
  {
   "cell_type": "markdown",
   "metadata": {
    "pycharm": {
     "name": "#%% md\n"
    }
   },
   "source": [
    "### 切词处理"
   ]
  },
  {
   "cell_type": "code",
   "execution_count": 5,
   "metadata": {
    "pycharm": {
     "name": "#%%\n"
    }
   },
   "outputs": [
    {
     "name": "stderr",
     "output_type": "stream",
     "text": [
      "Building prefix dict from the default dictionary ...\n",
      "Loading model from cache C:\\Users\\28772\\AppData\\Local\\Temp\\jieba.cache\n",
      "Loading model cost 0.592 seconds.\n",
      "Prefix dict has been built successfully.\n"
     ]
    }
   ],
   "source": [
    "zh_pattern = re.compile(u'[\\u4e00-\\u9fa5]+')\n",
    "stop_word = [line.strip() for line in open ('chineseStopWords.txt','r').readlines()]\n",
    "def extract_words(word):\n",
    "    word = str(word).strip()\n",
    "    zh_word = re.findall(zh_pattern,word)\n",
    "    lst = jieba.cut(''.join(zh_word))\n",
    "    final_word = [char for char in lst if char not in stop_word]\n",
    "    return ' '.join(final_word) #空格隔开\n",
    "data_e = data['message'].apply(lambda x:extract_words(x))   #对整列进行操作\n",
    "data_extract = pd.DataFrame(data_e.values,columns=['content'])  #转换成列表"
   ]
  },
  {
   "cell_type": "code",
   "execution_count": 6,
   "metadata": {
    "pycharm": {
     "name": "#%%\n"
    }
   },
   "outputs": [
    {
     "data": {
      "text/plain": "              content\n0         鼠标垫 抠门 扣到 家\n1  刚买 两天 降价 多买个 鼠标 保价\n2         电脑 刚买 系统 更新\n3         不到 十天 降价 厉害\n4        刚买 完 降 两百块 钱\n5     播放 音乐 声音 时大时 无声\n6     刚买 十二天 降 块钱 充电器\n7  蹭 退换 还要 检测 工作日内 呵呵\n8      变动 建议 入手 斯伍 叉叉\n9    买 一个月 闪屏 换 电脑 漏电",
      "text/html": "<div>\n<style scoped>\n    .dataframe tbody tr th:only-of-type {\n        vertical-align: middle;\n    }\n\n    .dataframe tbody tr th {\n        vertical-align: top;\n    }\n\n    .dataframe thead th {\n        text-align: right;\n    }\n</style>\n<table border=\"1\" class=\"dataframe\">\n  <thead>\n    <tr style=\"text-align: right;\">\n      <th></th>\n      <th>content</th>\n    </tr>\n  </thead>\n  <tbody>\n    <tr>\n      <th>0</th>\n      <td>鼠标垫 抠门 扣到 家</td>\n    </tr>\n    <tr>\n      <th>1</th>\n      <td>刚买 两天 降价 多买个 鼠标 保价</td>\n    </tr>\n    <tr>\n      <th>2</th>\n      <td>电脑 刚买 系统 更新</td>\n    </tr>\n    <tr>\n      <th>3</th>\n      <td>不到 十天 降价 厉害</td>\n    </tr>\n    <tr>\n      <th>4</th>\n      <td>刚买 完 降 两百块 钱</td>\n    </tr>\n    <tr>\n      <th>5</th>\n      <td>播放 音乐 声音 时大时 无声</td>\n    </tr>\n    <tr>\n      <th>6</th>\n      <td>刚买 十二天 降 块钱 充电器</td>\n    </tr>\n    <tr>\n      <th>7</th>\n      <td>蹭 退换 还要 检测 工作日内 呵呵</td>\n    </tr>\n    <tr>\n      <th>8</th>\n      <td>变动 建议 入手 斯伍 叉叉</td>\n    </tr>\n    <tr>\n      <th>9</th>\n      <td>买 一个月 闪屏 换 电脑 漏电</td>\n    </tr>\n  </tbody>\n</table>\n</div>"
     },
     "execution_count": 6,
     "metadata": {},
     "output_type": "execute_result"
    }
   ],
   "source": [
    "data_extract.head(10)"
   ]
  },
  {
   "cell_type": "code",
   "execution_count": 7,
   "metadata": {
    "pycharm": {
     "name": "#%%\n"
    }
   },
   "outputs": [],
   "source": [
    "data.index = list(range(len(data)))\n",
    "data_extract.index = list(range(len(data_extract)))\n",
    "df_all = data[['message','sentiment']].merge(data_extract,right_index = True,left_index = True)"
   ]
  },
  {
   "cell_type": "code",
   "execution_count": 8,
   "metadata": {
    "pycharm": {
     "name": "#%%\n"
    }
   },
   "outputs": [
    {
     "data": {
      "text/plain": "                                                 message  sentiment  \\\n0                                        连个鼠标垫都没有，抠门扣到家了          1   \n1                                     刚买两天就降价，多买个鼠标还不能保价          1   \n2                                    新电脑刚买的   系统更新下 就这样了          1   \n3                                            还不到十天就降价。厉害          1   \n4                                             刚买完就降了两百块钱          1   \n5                                         播放音乐声音时大时小有时无声          1   \n6                              刚买十二天就降了200块钱，充电器还有点问题，??          1   \n7                                  蹭到，退换还要检测，15个工作日内真是呵呵          1   \n8                                        变动大，建议入手rmb斯伍叉叉          1   \n9                                买了一个月闪屏，换的新电脑漏电&hellip;          1   \n10                                         不好 发热烫手 价格买贵了          1   \n11                                    充电的时候有滋滋声。。。影响使用效果          1   \n12                                           用不到一个月开不了机了          1   \n13                                     这就是发过来的钢化膜，差点碎成渣了          1   \n14                                          没完成配送，也不送货上门          1   \n15                                   买了不到一个月骤降300\\n价保7天?          1   \n16                                          刚到手几天就连续死机2次          1   \n17                                    电脑有问题，处理慢，而且买回来有污垢          1   \n18                                      客服服务态度及其不好，发消息不回          1   \n19                                            电源适配器差一个插头          1   \n20                                     刚买了不到10天，就降价了，挺惨的          1   \n21                                          啥也不是连个手提包都没有          1   \n22                                            货物不检查清楚就发货          1   \n23                                         收货不久就降价，质量还可以          1   \n24                                        几天就降价300，买了个寂寞          1   \n25                                          一个月降了一千，不保值。          1   \n26                                          第二天就莫名其妙看不了机          1   \n27                                       客服不承认商品页面的保价618          1   \n28                                       增值服务分开配送能不能提示好！          1   \n29                                   才买多久降了300，转轴感觉不行又异响          1   \n...                                                  ...        ...   \n54970                                  电脑不错，反应很快，送的东西很全。          0   \n54971                             高颜值，高性价，大品牌，超级牛，喜欢的宝贝。          0   \n54972                                   不错，还送了一堆的配件，太满意了          0   \n54973                               物流非常快，电脑包装非常好，用起来很快，          0   \n54974                                 质量很好运行快特别是摄像头还是隐藏的          0   \n54975                                      外观很喜欢，很漂亮，很合适          0   \n54976  很满意很好\\n运行速度：很快\",\"vcontent\":\"很满意很好\\n{$%&运行速度：&%...          0   \n54977             大品牌，用起来很放心，质量非常好，赶上活动购买非常的划算,客服真的很不错哦～          0   \n54978                                    运行速度快，开机速度也是杠杠的          0   \n54979  运行速度：很快\\n屏幕效果：清晰\\n散热性能：很好\\n外形外观：轻薄美观，高贵的银色\\n轻薄...          0   \n54980                                     非常好，很轻薄，孩子很喜欢，          0   \n54981                                    速度很快？颜值超高！优惠也多！          0   \n54982                              非常愉快的购物，大小刚合适，赠品也好！！！          0   \n54983                                到货速度快，机器也很不错，是喜欢的样子          0   \n54984                            发货很快 服务态度也很好 是一次很愉快的购物呢          0   \n54985                                    目前是非常顺畅的，办公用足够了          0   \n54986                                   速度很快，系统速度很快。。。。。          0   \n54987                                     日常办公完全够用，颜值也很棒          0   \n54988                                     笔记本电脑非常轻  外形美观          0   \n54989                                  这个电脑?用起来非常的好，值得购买          0   \n54990  其他特色：收到货就开始上网课了杠杠的\",\"vcontent\":\"{$%&其他特色：&%$}收...          0   \n54991                                 东西很好，和图片一样。客服也很是满意          0   \n54992                           店家发货非常快，服务态度超好，一次很愉快的购物。          0   \n54993                                  挺好的外观高大上，和描述一下是正品          0   \n54994                                     电脑很好，速度很快，值得购买          0   \n54995  第一次买华为电脑,开机很流畅,第一次的开始设置很友好,不用想太多,直接跟着默认设置,很快就把...          0   \n54996                                      电脑运行速度很快，外形好看          0   \n54997                           笔记本的外观很漂亮，拿到手里很有分量，做工很精细          0   \n54998                                      外观很是不错，键盘手感很好          0   \n54999                                 本子收到了，物流超快。宝贝用着不错。          0   \n\n                                                 content  \n0                                            鼠标垫 抠门 扣到 家  \n1                                     刚买 两天 降价 多买个 鼠标 保价  \n2                                            电脑 刚买 系统 更新  \n3                                            不到 十天 降价 厉害  \n4                                           刚买 完 降 两百块 钱  \n5                                        播放 音乐 声音 时大时 无声  \n6                                        刚买 十二天 降 块钱 充电器  \n7                                     蹭 退换 还要 检测 工作日内 呵呵  \n8                                         变动 建议 入手 斯伍 叉叉  \n9                                       买 一个月 闪屏 换 电脑 漏电  \n10                                        不好 发热 烫手 价格 买贵  \n11                                         充电 滋滋 声 影响 效果  \n12                                        不到 一个月 开 不了 机了  \n13                                      发过来 钢化 膜 差点 碎成 渣  \n14                                             没 配送 送货上门  \n15                                      买 不到 一个月 骤 降价 保天  \n16                                         到手 几天 连续 死机 次  \n17                                           电脑 慢 买回来 污垢  \n18                                     客服 服务态度 不好 发消息 不回  \n19                                            电源适配器 差 插头  \n20                                          刚买 不到 降价 挺 惨  \n21                                                   手提包  \n22                                              货物 检查 发货  \n23                                              收货 降价 质量  \n24                                            几天 降价 买 寂寞  \n25                                           一个月 降 一千 保值  \n26                                         第二天 莫名其妙 不了 机  \n27                                        客服 承认 商品 页面 保价  \n28                                      增值 服务 分开 配送 提示 好  \n29                                    买 多久 降 转轴 感觉 不行 异响  \n...                                                  ...  \n54970                                   电脑 不错 很快 送 东西 很全  \n54971                              高颜值 高性价 品牌 超级 牛 喜欢 宝贝  \n54972                                      不错 送 一堆 配件 满意  \n54973                                   物流 快 电脑 包装 好用 很快  \n54974                                质量 好 运行 快 特别 摄像头 隐藏  \n54975                                       外观 喜欢 很漂亮 合适  \n54976                        满意 好 运行 速度 很快 满意 好 运行 速度 很快  \n54977                       品牌 放心 质量 好 赶上 活动 购买 划算 客服 不错  \n54978                                   运行 速度 快 开机 速度 杠杠  \n54979  运行 速度 很快 屏幕 效果 清晰 散热 性能 好 外形 外观 轻薄 美观 高贵 银色 轻薄...  \n54980                                         好 轻薄 孩子 喜欢  \n54981                                     速度 很快 颜值 超高 优惠  \n54982                                     愉快 购物 大小 合适 赠品  \n54983                                到货 速度 快 机器 不错 喜欢 样子  \n54984                                 发货 很快 服务态度 好 愉快 购物  \n54985                                           顺畅 办公 足够  \n54986                                     速度 很快 系统 速度 很快  \n54987                                     日常 办公 够用 颜值 很棒  \n54988                                      笔记本电脑 轻 外形 美观  \n54989                                            电脑 好 购买  \n54990                    特色 收到 货 上网 课 杠杠 特色 收到 货 上网 课 杠杠  \n54991                                      东西 好 图片 客服 满意  \n54992                              店家 发货 快 服务态度 超好 愉快 购物  \n54993                                    挺 好 外观 高大 描述 正品  \n54994                                      电脑 好 速度 很快 购买  \n54995  第一次 买 华为 电脑 开机 流畅 第一次 设置 友好 不用 想太多 跟着 默认设置 很快 ...  \n54996                                  电脑 运行 速度 很快 外形 好看  \n54997                          笔记本 外观 很漂亮 拿到 手里 分量 做工 精细  \n54998                                      外观 不错 键盘 手感 好  \n54999                                  本子 收到 物流 超快 宝贝 不错  \n\n[55000 rows x 3 columns]",
      "text/html": "<div>\n<style scoped>\n    .dataframe tbody tr th:only-of-type {\n        vertical-align: middle;\n    }\n\n    .dataframe tbody tr th {\n        vertical-align: top;\n    }\n\n    .dataframe thead th {\n        text-align: right;\n    }\n</style>\n<table border=\"1\" class=\"dataframe\">\n  <thead>\n    <tr style=\"text-align: right;\">\n      <th></th>\n      <th>message</th>\n      <th>sentiment</th>\n      <th>content</th>\n    </tr>\n  </thead>\n  <tbody>\n    <tr>\n      <th>0</th>\n      <td>连个鼠标垫都没有，抠门扣到家了</td>\n      <td>1</td>\n      <td>鼠标垫 抠门 扣到 家</td>\n    </tr>\n    <tr>\n      <th>1</th>\n      <td>刚买两天就降价，多买个鼠标还不能保价</td>\n      <td>1</td>\n      <td>刚买 两天 降价 多买个 鼠标 保价</td>\n    </tr>\n    <tr>\n      <th>2</th>\n      <td>新电脑刚买的   系统更新下 就这样了</td>\n      <td>1</td>\n      <td>电脑 刚买 系统 更新</td>\n    </tr>\n    <tr>\n      <th>3</th>\n      <td>还不到十天就降价。厉害</td>\n      <td>1</td>\n      <td>不到 十天 降价 厉害</td>\n    </tr>\n    <tr>\n      <th>4</th>\n      <td>刚买完就降了两百块钱</td>\n      <td>1</td>\n      <td>刚买 完 降 两百块 钱</td>\n    </tr>\n    <tr>\n      <th>5</th>\n      <td>播放音乐声音时大时小有时无声</td>\n      <td>1</td>\n      <td>播放 音乐 声音 时大时 无声</td>\n    </tr>\n    <tr>\n      <th>6</th>\n      <td>刚买十二天就降了200块钱，充电器还有点问题，??</td>\n      <td>1</td>\n      <td>刚买 十二天 降 块钱 充电器</td>\n    </tr>\n    <tr>\n      <th>7</th>\n      <td>蹭到，退换还要检测，15个工作日内真是呵呵</td>\n      <td>1</td>\n      <td>蹭 退换 还要 检测 工作日内 呵呵</td>\n    </tr>\n    <tr>\n      <th>8</th>\n      <td>变动大，建议入手rmb斯伍叉叉</td>\n      <td>1</td>\n      <td>变动 建议 入手 斯伍 叉叉</td>\n    </tr>\n    <tr>\n      <th>9</th>\n      <td>买了一个月闪屏，换的新电脑漏电&amp;hellip;</td>\n      <td>1</td>\n      <td>买 一个月 闪屏 换 电脑 漏电</td>\n    </tr>\n    <tr>\n      <th>10</th>\n      <td>不好 发热烫手 价格买贵了</td>\n      <td>1</td>\n      <td>不好 发热 烫手 价格 买贵</td>\n    </tr>\n    <tr>\n      <th>11</th>\n      <td>充电的时候有滋滋声。。。影响使用效果</td>\n      <td>1</td>\n      <td>充电 滋滋 声 影响 效果</td>\n    </tr>\n    <tr>\n      <th>12</th>\n      <td>用不到一个月开不了机了</td>\n      <td>1</td>\n      <td>不到 一个月 开 不了 机了</td>\n    </tr>\n    <tr>\n      <th>13</th>\n      <td>这就是发过来的钢化膜，差点碎成渣了</td>\n      <td>1</td>\n      <td>发过来 钢化 膜 差点 碎成 渣</td>\n    </tr>\n    <tr>\n      <th>14</th>\n      <td>没完成配送，也不送货上门</td>\n      <td>1</td>\n      <td>没 配送 送货上门</td>\n    </tr>\n    <tr>\n      <th>15</th>\n      <td>买了不到一个月骤降300\\n价保7天?</td>\n      <td>1</td>\n      <td>买 不到 一个月 骤 降价 保天</td>\n    </tr>\n    <tr>\n      <th>16</th>\n      <td>刚到手几天就连续死机2次</td>\n      <td>1</td>\n      <td>到手 几天 连续 死机 次</td>\n    </tr>\n    <tr>\n      <th>17</th>\n      <td>电脑有问题，处理慢，而且买回来有污垢</td>\n      <td>1</td>\n      <td>电脑 慢 买回来 污垢</td>\n    </tr>\n    <tr>\n      <th>18</th>\n      <td>客服服务态度及其不好，发消息不回</td>\n      <td>1</td>\n      <td>客服 服务态度 不好 发消息 不回</td>\n    </tr>\n    <tr>\n      <th>19</th>\n      <td>电源适配器差一个插头</td>\n      <td>1</td>\n      <td>电源适配器 差 插头</td>\n    </tr>\n    <tr>\n      <th>20</th>\n      <td>刚买了不到10天，就降价了，挺惨的</td>\n      <td>1</td>\n      <td>刚买 不到 降价 挺 惨</td>\n    </tr>\n    <tr>\n      <th>21</th>\n      <td>啥也不是连个手提包都没有</td>\n      <td>1</td>\n      <td>手提包</td>\n    </tr>\n    <tr>\n      <th>22</th>\n      <td>货物不检查清楚就发货</td>\n      <td>1</td>\n      <td>货物 检查 发货</td>\n    </tr>\n    <tr>\n      <th>23</th>\n      <td>收货不久就降价，质量还可以</td>\n      <td>1</td>\n      <td>收货 降价 质量</td>\n    </tr>\n    <tr>\n      <th>24</th>\n      <td>几天就降价300，买了个寂寞</td>\n      <td>1</td>\n      <td>几天 降价 买 寂寞</td>\n    </tr>\n    <tr>\n      <th>25</th>\n      <td>一个月降了一千，不保值。</td>\n      <td>1</td>\n      <td>一个月 降 一千 保值</td>\n    </tr>\n    <tr>\n      <th>26</th>\n      <td>第二天就莫名其妙看不了机</td>\n      <td>1</td>\n      <td>第二天 莫名其妙 不了 机</td>\n    </tr>\n    <tr>\n      <th>27</th>\n      <td>客服不承认商品页面的保价618</td>\n      <td>1</td>\n      <td>客服 承认 商品 页面 保价</td>\n    </tr>\n    <tr>\n      <th>28</th>\n      <td>增值服务分开配送能不能提示好！</td>\n      <td>1</td>\n      <td>增值 服务 分开 配送 提示 好</td>\n    </tr>\n    <tr>\n      <th>29</th>\n      <td>才买多久降了300，转轴感觉不行又异响</td>\n      <td>1</td>\n      <td>买 多久 降 转轴 感觉 不行 异响</td>\n    </tr>\n    <tr>\n      <th>...</th>\n      <td>...</td>\n      <td>...</td>\n      <td>...</td>\n    </tr>\n    <tr>\n      <th>54970</th>\n      <td>电脑不错，反应很快，送的东西很全。</td>\n      <td>0</td>\n      <td>电脑 不错 很快 送 东西 很全</td>\n    </tr>\n    <tr>\n      <th>54971</th>\n      <td>高颜值，高性价，大品牌，超级牛，喜欢的宝贝。</td>\n      <td>0</td>\n      <td>高颜值 高性价 品牌 超级 牛 喜欢 宝贝</td>\n    </tr>\n    <tr>\n      <th>54972</th>\n      <td>不错，还送了一堆的配件，太满意了</td>\n      <td>0</td>\n      <td>不错 送 一堆 配件 满意</td>\n    </tr>\n    <tr>\n      <th>54973</th>\n      <td>物流非常快，电脑包装非常好，用起来很快，</td>\n      <td>0</td>\n      <td>物流 快 电脑 包装 好用 很快</td>\n    </tr>\n    <tr>\n      <th>54974</th>\n      <td>质量很好运行快特别是摄像头还是隐藏的</td>\n      <td>0</td>\n      <td>质量 好 运行 快 特别 摄像头 隐藏</td>\n    </tr>\n    <tr>\n      <th>54975</th>\n      <td>外观很喜欢，很漂亮，很合适</td>\n      <td>0</td>\n      <td>外观 喜欢 很漂亮 合适</td>\n    </tr>\n    <tr>\n      <th>54976</th>\n      <td>很满意很好\\n运行速度：很快\",\"vcontent\":\"很满意很好\\n{$%&amp;运行速度：&amp;%...</td>\n      <td>0</td>\n      <td>满意 好 运行 速度 很快 满意 好 运行 速度 很快</td>\n    </tr>\n    <tr>\n      <th>54977</th>\n      <td>大品牌，用起来很放心，质量非常好，赶上活动购买非常的划算,客服真的很不错哦～</td>\n      <td>0</td>\n      <td>品牌 放心 质量 好 赶上 活动 购买 划算 客服 不错</td>\n    </tr>\n    <tr>\n      <th>54978</th>\n      <td>运行速度快，开机速度也是杠杠的</td>\n      <td>0</td>\n      <td>运行 速度 快 开机 速度 杠杠</td>\n    </tr>\n    <tr>\n      <th>54979</th>\n      <td>运行速度：很快\\n屏幕效果：清晰\\n散热性能：很好\\n外形外观：轻薄美观，高贵的银色\\n轻薄...</td>\n      <td>0</td>\n      <td>运行 速度 很快 屏幕 效果 清晰 散热 性能 好 外形 外观 轻薄 美观 高贵 银色 轻薄...</td>\n    </tr>\n    <tr>\n      <th>54980</th>\n      <td>非常好，很轻薄，孩子很喜欢，</td>\n      <td>0</td>\n      <td>好 轻薄 孩子 喜欢</td>\n    </tr>\n    <tr>\n      <th>54981</th>\n      <td>速度很快？颜值超高！优惠也多！</td>\n      <td>0</td>\n      <td>速度 很快 颜值 超高 优惠</td>\n    </tr>\n    <tr>\n      <th>54982</th>\n      <td>非常愉快的购物，大小刚合适，赠品也好！！！</td>\n      <td>0</td>\n      <td>愉快 购物 大小 合适 赠品</td>\n    </tr>\n    <tr>\n      <th>54983</th>\n      <td>到货速度快，机器也很不错，是喜欢的样子</td>\n      <td>0</td>\n      <td>到货 速度 快 机器 不错 喜欢 样子</td>\n    </tr>\n    <tr>\n      <th>54984</th>\n      <td>发货很快 服务态度也很好 是一次很愉快的购物呢</td>\n      <td>0</td>\n      <td>发货 很快 服务态度 好 愉快 购物</td>\n    </tr>\n    <tr>\n      <th>54985</th>\n      <td>目前是非常顺畅的，办公用足够了</td>\n      <td>0</td>\n      <td>顺畅 办公 足够</td>\n    </tr>\n    <tr>\n      <th>54986</th>\n      <td>速度很快，系统速度很快。。。。。</td>\n      <td>0</td>\n      <td>速度 很快 系统 速度 很快</td>\n    </tr>\n    <tr>\n      <th>54987</th>\n      <td>日常办公完全够用，颜值也很棒</td>\n      <td>0</td>\n      <td>日常 办公 够用 颜值 很棒</td>\n    </tr>\n    <tr>\n      <th>54988</th>\n      <td>笔记本电脑非常轻  外形美观</td>\n      <td>0</td>\n      <td>笔记本电脑 轻 外形 美观</td>\n    </tr>\n    <tr>\n      <th>54989</th>\n      <td>这个电脑?用起来非常的好，值得购买</td>\n      <td>0</td>\n      <td>电脑 好 购买</td>\n    </tr>\n    <tr>\n      <th>54990</th>\n      <td>其他特色：收到货就开始上网课了杠杠的\",\"vcontent\":\"{$%&amp;其他特色：&amp;%$}收...</td>\n      <td>0</td>\n      <td>特色 收到 货 上网 课 杠杠 特色 收到 货 上网 课 杠杠</td>\n    </tr>\n    <tr>\n      <th>54991</th>\n      <td>东西很好，和图片一样。客服也很是满意</td>\n      <td>0</td>\n      <td>东西 好 图片 客服 满意</td>\n    </tr>\n    <tr>\n      <th>54992</th>\n      <td>店家发货非常快，服务态度超好，一次很愉快的购物。</td>\n      <td>0</td>\n      <td>店家 发货 快 服务态度 超好 愉快 购物</td>\n    </tr>\n    <tr>\n      <th>54993</th>\n      <td>挺好的外观高大上，和描述一下是正品</td>\n      <td>0</td>\n      <td>挺 好 外观 高大 描述 正品</td>\n    </tr>\n    <tr>\n      <th>54994</th>\n      <td>电脑很好，速度很快，值得购买</td>\n      <td>0</td>\n      <td>电脑 好 速度 很快 购买</td>\n    </tr>\n    <tr>\n      <th>54995</th>\n      <td>第一次买华为电脑,开机很流畅,第一次的开始设置很友好,不用想太多,直接跟着默认设置,很快就把...</td>\n      <td>0</td>\n      <td>第一次 买 华为 电脑 开机 流畅 第一次 设置 友好 不用 想太多 跟着 默认设置 很快 ...</td>\n    </tr>\n    <tr>\n      <th>54996</th>\n      <td>电脑运行速度很快，外形好看</td>\n      <td>0</td>\n      <td>电脑 运行 速度 很快 外形 好看</td>\n    </tr>\n    <tr>\n      <th>54997</th>\n      <td>笔记本的外观很漂亮，拿到手里很有分量，做工很精细</td>\n      <td>0</td>\n      <td>笔记本 外观 很漂亮 拿到 手里 分量 做工 精细</td>\n    </tr>\n    <tr>\n      <th>54998</th>\n      <td>外观很是不错，键盘手感很好</td>\n      <td>0</td>\n      <td>外观 不错 键盘 手感 好</td>\n    </tr>\n    <tr>\n      <th>54999</th>\n      <td>本子收到了，物流超快。宝贝用着不错。</td>\n      <td>0</td>\n      <td>本子 收到 物流 超快 宝贝 不错</td>\n    </tr>\n  </tbody>\n</table>\n<p>55000 rows × 3 columns</p>\n</div>"
     },
     "execution_count": 8,
     "metadata": {},
     "output_type": "execute_result"
    }
   ],
   "source": [
    "df_all"
   ]
  },
  {
   "cell_type": "markdown",
   "metadata": {
    "pycharm": {
     "name": "#%% md\n"
    }
   },
   "source": [
    "### TF-IDF"
   ]
  },
  {
   "cell_type": "code",
   "execution_count": 9,
   "metadata": {
    "pycharm": {
     "name": "#%%\n"
    }
   },
   "outputs": [],
   "source": [
    "counter = CountVectorizer(max_df=0.9,min_df=0.001)  #限制词频\n",
    "counts = counter.fit_transform(df_all.content)\n",
    "tfidfier = TfidfTransformer()\n",
    "tfidf = tfidfier.fit_transform(counts)\n",
    "data = tfidf.toarray()\n",
    "label = df_all['sentiment'].values"
   ]
  },
  {
   "cell_type": "code",
   "execution_count": 10,
   "metadata": {
    "pycharm": {
     "name": "#%%\n"
    }
   },
   "outputs": [
    {
     "data": {
      "text/plain": "(55000, 1403)"
     },
     "execution_count": 10,
     "metadata": {},
     "output_type": "execute_result"
    }
   ],
   "source": [
    "np.shape(data)"
   ]
  },
  {
   "cell_type": "code",
   "execution_count": 11,
   "metadata": {
    "pycharm": {
     "name": "#%%\n"
    }
   },
   "outputs": [
    {
     "data": {
      "text/plain": "array([[0., 0., 0., ..., 1., 0., 0.],\n       [0., 0., 0., ..., 0., 0., 0.],\n       [0., 0., 0., ..., 0., 0., 0.],\n       ...,\n       [0., 0., 0., ..., 0., 0., 0.],\n       [0., 0., 0., ..., 0., 0., 0.],\n       [0., 0., 0., ..., 0., 0., 0.]])"
     },
     "execution_count": 11,
     "metadata": {},
     "output_type": "execute_result"
    }
   ],
   "source": [
    "data"
   ]
  },
  {
   "cell_type": "code",
   "execution_count": 12,
   "metadata": {
    "pycharm": {
     "name": "#%%\n"
    }
   },
   "outputs": [
    {
     "data": {
      "text/plain": "array([1, 1, 1, ..., 0, 0, 0], dtype=int64)"
     },
     "execution_count": 12,
     "metadata": {},
     "output_type": "execute_result"
    }
   ],
   "source": [
    "label"
   ]
  },
  {
   "cell_type": "markdown",
   "metadata": {
    "pycharm": {
     "name": "#%% md\n"
    }
   },
   "source": [
    "### 分类模型搭建"
   ]
  },
  {
   "cell_type": "code",
   "execution_count": 13,
   "metadata": {
    "pycharm": {
     "name": "#%%\n"
    }
   },
   "outputs": [],
   "source": [
    "# 数据集划分\n",
    "x_train = data\n",
    "x_test = data\n",
    "y_train = label\n",
    "y_test = label"
   ]
  },
  {
   "cell_type": "markdown",
   "source": [
    "#### PCA降维"
   ],
   "metadata": {
    "collapsed": false,
    "pycharm": {
     "name": "#%% md\n"
    }
   }
  },
  {
   "cell_type": "code",
   "execution_count": 14,
   "outputs": [
    {
     "name": "stdout",
     "output_type": "stream",
     "text": [
      "[3.33966237e-02 9.67849923e-03 8.78315307e-03 ... 3.27861996e-05\n",
      " 2.36826998e-05 1.37663524e-05]\n"
     ]
    },
    {
     "data": {
      "text/plain": "<Figure size 432x288 with 1 Axes>",
      "image/png": "[encoded data removed]"
     },
     "metadata": {
      "needs_background": "light"
     },
     "output_type": "display_data"
    }
   ],
   "source": [
    "# 1. 导入依赖\n",
    "from sklearn.decomposition import PCA\n",
    "from sklearn.metrics import  mean_squared_error\n",
    "from sklearn.linear_model import LinearRegression\n",
    "from sklearn.ensemble import RandomForestClassifier\n",
    "\n",
    "# 2. 进行训练\n",
    "pca = PCA()\n",
    "pca.fit(x_train,y_train)\n",
    "\n",
    "# 3. 查看方差贡献率\n",
    "ratio = pca.explained_variance_ratio_\n",
    "print(ratio)\n",
    "\n",
    "# 4.计算累计贡献率,查看不同维数信息比\n",
    "sum_ratio = ratio.cumsum()\n",
    "xs = list(range(len(sum_ratio)))\n",
    "plt.plot(xs,sum_ratio)\n",
    "plt.xlabel(\"number of dimension\")\n",
    "plt.ylabel(\"cum explained variance ratio\")\n",
    "plt.grid()\n",
    "plt.show()"
   ],
   "metadata": {
    "collapsed": false,
    "pycharm": {
     "name": "#%%\n"
    }
   }
  },
  {
   "cell_type": "code",
   "execution_count": null,
   "outputs": [],
   "source": [
    "# 5. 进行降维\n",
    "pca = PCA(n_components=1000)\n",
    "\n",
    "# 6. 训练模型\n",
    "pca.fit(x_train)\n",
    "\n",
    "# 7. 降维训练集和测试集\n",
    "train_pca = pca.transform(x_train)\n",
    "test_pca = pca.transform(x_test)\n",
    "\n",
    "# 8. 实例化，线性回归查看结果\n",
    "model1 = LinearRegression()\n",
    "model1.fit(train_pca,y_train)\n",
    "model2 = RandomForestClassifier()\n",
    "model2.fit(train_pca,y_train)\n",
    "\n",
    "# 9. 预测降维后的数据\n",
    "train_predict1 = model1.predict(train_pca)\n",
    "test_predict1 = model1.predict(test_pca)\n",
    "train_predict2 = model2.predict(train_pca)\n",
    "test_predict2 = model2.predict(test_pca)\n",
    "# 10. 查看训练集和测试集的MSE表现情况\n",
    "print(\"训练集  逻辑回归：\"+str(mean_squared_error(y_train,train_predict1))+\"   随机森林：\"+str(mean_squared_error(y_train,train_predict2)))"
   ],
   "metadata": {
    "collapsed": false,
    "pycharm": {
     "name": "#%%\n"
    }
   }
  },
  {
   "cell_type": "code",
   "execution_count": 2,
   "outputs": [
    {
     "ename": "NameError",
     "evalue": "name 'mean_squared_error' is not defined",
     "output_type": "error",
     "traceback": [
      "\u001B[1;31m---------------------------------------------------------------------------\u001B[0m",
      "\u001B[1;31mNameError\u001B[0m                                 Traceback (most recent call last)",
      "\u001B[1;32m<ipython-input-2-99762d7aed39>\u001B[0m in \u001B[0;36m<module>\u001B[1;34m()\u001B[0m\n\u001B[1;32m----> 1\u001B[1;33m \u001B[0mprint\u001B[0m\u001B[1;33m(\u001B[0m\u001B[1;34m\"测试集  逻辑回归：\"\u001B[0m\u001B[1;33m+\u001B[0m\u001B[0mmean_squared_error\u001B[0m\u001B[1;33m(\u001B[0m\u001B[0my_test\u001B[0m\u001B[1;33m,\u001B[0m\u001B[0mtest_predict1\u001B[0m\u001B[1;33m)\u001B[0m\u001B[1;33m+\u001B[0m\u001B[1;34m\"   随机森林：\"\u001B[0m\u001B[1;33m+\u001B[0m\u001B[0mmean_squared_error\u001B[0m\u001B[1;33m(\u001B[0m\u001B[0my_test\u001B[0m\u001B[1;33m,\u001B[0m\u001B[0mtest_predict2\u001B[0m\u001B[1;33m)\u001B[0m\u001B[1;33m)\u001B[0m\u001B[1;33m\u001B[0m\u001B[0m\n\u001B[0m",
      "\u001B[1;31mNameError\u001B[0m: name 'mean_squared_error' is not defined"
     ]
    }
   ],
   "source": [
    "print(\"测试集  逻辑回归：\"+str(mean_squared_error(y_test,test_predict1))+\"   随机森林：\"+str(mean_squared_error(y_test,test_predict2)))"
   ],
   "metadata": {
    "collapsed": false,
    "pycharm": {
     "name": "#%%\n"
    }
   }
  },
  {
   "cell_type": "code",
   "execution_count": null,
   "outputs": [],
   "source": [
    "# 11. 与未降维的数据线性回归进行对比\n",
    "model1 = LinearRegression()\n",
    "model1.fit(x_train,y_train)\n",
    "train_predict1 = model1.predict(x_train)\n",
    "test_predict1 = model1.predict(x_test)\n",
    "model2 = RandomForestClassifier()\n",
    "model2.fit(x_train,y_train)\n",
    "train_predict2 = model2.predict(x_train)\n",
    "test_predict2 = model2.predict(x_test)\n",
    "print(\"未降维训练集  逻辑回归：\"+str(mean_squared_error(y_train,train_predict1))+\"   随机森林：\"+str(mean_squared_error(y_train,train_predict2)))"
   ],
   "metadata": {
    "collapsed": false,
    "pycharm": {
     "name": "#%%\n"
    }
   }
  },
  {
   "cell_type": "code",
   "execution_count": 1,
   "outputs": [
    {
     "ename": "NameError",
     "evalue": "name 'mean_squared_error' is not defined",
     "output_type": "error",
     "traceback": [
      "\u001B[1;31m---------------------------------------------------------------------------\u001B[0m",
      "\u001B[1;31mNameError\u001B[0m                                 Traceback (most recent call last)",
      "\u001B[1;32m<ipython-input-1-7c0b788cf1e2>\u001B[0m in \u001B[0;36m<module>\u001B[1;34m()\u001B[0m\n\u001B[1;32m----> 1\u001B[1;33m \u001B[0mmean_squared_error\u001B[0m\u001B[1;33m(\u001B[0m\u001B[0my_test\u001B[0m\u001B[1;33m,\u001B[0m\u001B[0mtest_predict\u001B[0m\u001B[1;33m)\u001B[0m\u001B[1;33m\u001B[0m\u001B[0m\n\u001B[0m\u001B[0;32m      2\u001B[0m \u001B[1;33m\u001B[0m\u001B[0m\n\u001B[0;32m      3\u001B[0m \u001B[1;31m# 进行卡方验证，确定该留下的特征数\u001B[0m\u001B[1;33m\u001B[0m\u001B[1;33m\u001B[0m\u001B[0m\n",
      "\u001B[1;31mNameError\u001B[0m: name 'mean_squared_error' is not defined"
     ]
    }
   ],
   "source": [
    "print(\"未降维测试集  逻辑回归：\"+str(mean_squared_error(y_test,test_predict1))+\"   随机森林：\"+str(mean_squared_error(y_test,test_predict2)))"
   ],
   "metadata": {
    "collapsed": false,
    "pycharm": {
     "name": "#%%\n"
    }
   }
  },
  {
   "cell_type": "markdown",
   "source": [
    "#### 特征过滤Filter\n",
    "   1、对各个特征进行评价\n",
    "\n",
    "   2、设置得分的阈值，筛选出高于阈值的特征"
   ],
   "metadata": {
    "collapsed": false,
    "pycharm": {
     "name": "#%% md\n"
    }
   }
  },
  {
   "cell_type": "code",
   "execution_count": 14,
   "outputs": [
    {
     "name": "stdout",
     "output_type": "stream",
     "text": [
      "MSE 逻辑回归：0.027630716267463697   随机森林：0.0011278594379682371\n"
     ]
    }
   ],
   "source": [
    "# 卡方验证(通过X和Y的相关性进行过滤)\n",
    "from sklearn.metrics import  mean_squared_error\n",
    "from sklearn.feature_selection import SelectKBest\n",
    "from sklearn.feature_selection import chi2\n",
    "from sklearn.linear_model import LinearRegression\n",
    "from sklearn.ensemble import RandomForestClassifier\n",
    "# 使用卡方计算，选择k个最好特征\n",
    "xs = SelectKBest(chi2,k=700).fit_transform(x_train,y_train)\n",
    "# 实例化，查看结果\n",
    "model1 = LinearRegression()\n",
    "model1.fit(xs,y_train)\n",
    "model2 = RandomForestClassifier()\n",
    "model2.fit(xs,y_train)\n",
    "\n",
    "# 预测降维后的数据\n",
    "ys1 = model1.predict(xs)\n",
    "ys2 = model2.predict(xs)\n",
    "# 查看MSE表现情况\n",
    "print(\"MSE 逻辑回归：\"+str(mean_squared_error(y_train,ys1))+\"   随机森林：\"+str(mean_squared_error(y_train,ys2)) )"
   ],
   "metadata": {
    "collapsed": false,
    "pycharm": {
     "name": "#%%\n"
    }
   }
  },
  {
   "cell_type": "markdown",
   "source": [
    "### 回归算法\n",
    "#### 参数调节"
   ],
   "metadata": {
    "collapsed": false,
    "pycharm": {
     "name": "#%% md\n"
    }
   }
  },
  {
   "cell_type": "markdown",
   "source": [
    "##### 随机网格搜索（大范围粗略搜索）"
   ],
   "metadata": {
    "collapsed": false,
    "pycharm": {
     "name": "#%% md\n"
    }
   }
  },
  {
   "cell_type": "code",
   "execution_count": 16,
   "outputs": [],
   "source": [
    "from sklearn.model_selection import RandomizedSearchCV\n",
    "from sklearn.linear_model import LogisticRegression\n",
    "from sklearn.metrics import make_scorer\n",
    "from sklearn.metrics import accuracy_score"
   ],
   "metadata": {
    "collapsed": false,
    "pycharm": {
     "name": "#%%\n"
    }
   }
  },
  {
   "cell_type": "code",
   "execution_count": null,
   "outputs": [],
   "source": [
    "lr = LogisticRegression()\n",
    "params = {'C':[0.1,1,10,100,500],'penalty':['l1','l2']} # 遍历生成所有下参数组合，并展示最好结果\n",
    "rs_lr = RandomizedSearchCV(estimator = lr, param_distributions = params, cv = 5, scoring = make_scorer(accuracy_score))\n",
    "# 训练数据\n",
    "rs_lr.fit(xs,y_train)\n",
    "# 查看最优参数以及指标\n",
    "print(\"最佳参数：\"+str(rs_lr.best_params_)+\"   指标：\"+str(rs_lr.best_score_)+\"   测试集准确率：\"+str(rs_lr.score(xs,y_test)))"
   ],
   "metadata": {
    "collapsed": false,
    "pycharm": {
     "name": "#%%\n"
    }
   }
  },
  {
   "cell_type": "code",
   "execution_count": 16,
   "outputs": [
    {
     "data": {
      "text/plain": "{'mean_fit_time': array([0.08421197, 0.84740305, 0.08196483, 1.31163297, 0.08180914,\n        2.48060045, 0.08076911, 2.55891008, 0.08409586, 2.52332807]),\n 'std_fit_time': array([0.00373724, 0.05541029, 0.00338598, 0.18922942, 0.00231021,\n        0.04155535, 0.00129546, 0.17214478, 0.00353654, 0.03569749]),\n 'mean_score_time': array([0.        , 0.01119251, 0.        , 0.01279898, 0.        ,\n        0.00960369, 0.        , 0.0127943 , 0.        , 0.00842433]),\n 'std_score_time': array([0.        , 0.00392621, 0.        , 0.00392312, 0.        ,\n        0.00321176, 0.        , 0.00391482, 0.        , 0.0008683 ]),\n 'param_penalty': masked_array(data=['l1', 'l2', 'l1', 'l2', 'l1', 'l2', 'l1', 'l2', 'l1',\n                    'l2'],\n              mask=[False, False, False, False, False, False, False, False,\n                    False, False],\n        fill_value='?',\n             dtype=object),\n 'param_C': masked_array(data=[0.1, 0.1, 1, 1, 10, 10, 100, 100, 500, 500],\n              mask=[False, False, False, False, False, False, False, False,\n                    False, False],\n        fill_value='?',\n             dtype=object),\n 'params': [{'penalty': 'l1', 'C': 0.1},\n  {'penalty': 'l2', 'C': 0.1},\n  {'penalty': 'l1', 'C': 1},\n  {'penalty': 'l2', 'C': 1},\n  {'penalty': 'l1', 'C': 10},\n  {'penalty': 'l2', 'C': 10},\n  {'penalty': 'l1', 'C': 100},\n  {'penalty': 'l2', 'C': 100},\n  {'penalty': 'l1', 'C': 500},\n  {'penalty': 'l2', 'C': 500}],\n 'split0_test_score': array([       nan, 0.95890909,        nan, 0.98736364,        nan,\n        0.99127273,        nan, 0.99390909,        nan, 0.99390909]),\n 'split1_test_score': array([       nan, 0.96245455,        nan, 0.98854545,        nan,\n        0.99127273,        nan, 0.99281818,        nan, 0.993     ]),\n 'split2_test_score': array([       nan, 0.96236364,        nan, 0.98909091,        nan,\n        0.99127273,        nan, 0.99127273,        nan, 0.99118182]),\n 'split3_test_score': array([       nan, 0.96190909,        nan, 0.98727273,        nan,\n        0.99254545,        nan, 0.99290909,        nan, 0.99236364]),\n 'split4_test_score': array([       nan, 0.96363636,        nan, 0.97972727,        nan,\n        0.98145455,        nan, 0.97790909,        nan, 0.97709091]),\n 'mean_test_score': array([       nan, 0.96185455,        nan, 0.9864    ,        nan,\n        0.98956364,        nan, 0.98976364,        nan, 0.98950909]),\n 'std_test_score': array([       nan, 0.00157941,        nan, 0.00340762,        nan,\n        0.0040844 ,        nan, 0.00598693,        nan, 0.00627223]),\n 'rank_test_score': array([ 6,  5,  7,  4,  8,  2,  9,  1, 10,  3])}"
     },
     "execution_count": 16,
     "metadata": {},
     "output_type": "execute_result"
    }
   ],
   "source": [
    "# 查看各种组合的调参结果\n",
    "rs_lr.cv_results_"
   ],
   "metadata": {
    "collapsed": false,
    "pycharm": {
     "name": "#%%\n"
    }
   }
  },
  {
   "cell_type": "code",
   "execution_count": 17,
   "outputs": [
    {
     "name": "stdout",
     "output_type": "stream",
     "text": [
      "最佳参数：{'n_estimators': 100, 'max_depth': 20}   指标：0.9507272727272728   测试集准确率：0.9550363636363637\n"
     ]
    }
   ],
   "source": [
    "from sklearn.ensemble import RandomForestClassifier\n",
    "# 随机森林\n",
    "rfc = RandomForestClassifier()\n",
    "params = {'n_estimators': list(range(100, 200, 50)), 'max_depth': list(range(10, 25, 5))}  # 遍历生成所有下参数组合，并展示最好结果\n",
    "rs_rfc = RandomizedSearchCV(estimator=rfc, param_distributions=params, cv=5, scoring=make_scorer(accuracy_score))\n",
    "# 训练数据\n",
    "rs_rfc.fit(xs, y_train)\n",
    "# 查看最优参数以及指标\n",
    "print(\"最佳参数：\" + str(rs_rfc.best_params_) + \"   指标：\" + str(rs_rfc.best_score_) + \"   测试集准确率：\" + str(rs_rfc.score(xs,y_test)))"
   ],
   "metadata": {
    "collapsed": false,
    "pycharm": {
     "name": "#%%\n"
    }
   }
  },
  {
   "cell_type": "code",
   "execution_count": 18,
   "outputs": [
    {
     "data": {
      "text/plain": "{'mean_fit_time': array([ 9.77731419, 15.35570931, 12.68638515, 18.47764173, 14.71463284,\n        21.91491952]),\n 'std_fit_time': array([0.39051137, 0.91214935, 0.53730796, 0.10828642, 0.23093005,\n        0.42016088]),\n 'mean_score_time': array([0.15489311, 0.24201431, 0.19888716, 0.29204178, 0.24285522,\n        0.34608665]),\n 'std_score_time': array([0.00755634, 0.01502058, 0.00407267, 0.00700236, 0.00805976,\n        0.00673574]),\n 'param_n_estimators': masked_array(data=[100, 150, 100, 150, 100, 150],\n              mask=[False, False, False, False, False, False],\n        fill_value='?',\n             dtype=object),\n 'param_max_depth': masked_array(data=[10, 10, 15, 15, 20, 20],\n              mask=[False, False, False, False, False, False],\n        fill_value='?',\n             dtype=object),\n 'params': [{'n_estimators': 100, 'max_depth': 10},\n  {'n_estimators': 150, 'max_depth': 10},\n  {'n_estimators': 100, 'max_depth': 15},\n  {'n_estimators': 150, 'max_depth': 15},\n  {'n_estimators': 100, 'max_depth': 20},\n  {'n_estimators': 150, 'max_depth': 20}],\n 'split0_test_score': array([0.91736364, 0.91645455, 0.93463636, 0.93490909, 0.94654545,\n        0.94618182]),\n 'split1_test_score': array([0.92209091, 0.92436364, 0.94209091, 0.93927273, 0.95136364,\n        0.952     ]),\n 'split2_test_score': array([0.91963636, 0.91754545, 0.93618182, 0.93854545, 0.95245455,\n        0.95081818]),\n 'split3_test_score': array([0.91545455, 0.91563636, 0.93409091, 0.93590909, 0.94990909,\n        0.95027273]),\n 'split4_test_score': array([0.92      , 0.92036364, 0.93963636, 0.94      , 0.95336364,\n        0.95336364]),\n 'mean_test_score': array([0.91890909, 0.91887273, 0.93732727, 0.93772727, 0.95072727,\n        0.95052727]),\n 'std_test_score': array([0.00228759, 0.00317667, 0.00306761, 0.00197338, 0.00238729,\n        0.00241852]),\n 'rank_test_score': array([5, 6, 4, 3, 1, 2])}"
     },
     "execution_count": 18,
     "metadata": {},
     "output_type": "execute_result"
    }
   ],
   "source": [
    "# 查看各种组合的调参结果\n",
    "rs_rfc.cv_results_"
   ],
   "metadata": {
    "collapsed": false,
    "pycharm": {
     "name": "#%%\n"
    }
   }
  },
  {
   "cell_type": "markdown",
   "source": [
    "##### 网格搜索（精细调整）"
   ],
   "metadata": {
    "collapsed": false,
    "pycharm": {
     "name": "#%% md\n"
    }
   }
  },
  {
   "cell_type": "code",
   "execution_count": 22,
   "outputs": [
    {
     "name": "stdout",
     "output_type": "stream",
     "text": [
      "最佳参数：{'C': 110, 'penalty': 'l2'}   指标：0.9898909090909089   测试集准确率：0.9938181818181818\n"
     ]
    }
   ],
   "source": [
    "# 逻辑回归\n",
    "from sklearn.model_selection import GridSearchCV\n",
    "from sklearn.linear_model import LogisticRegression\n",
    "lr = LogisticRegression()\n",
    "params = {'C':list(range(70, 150, 20)),'penalty':['l1','l2']} # 遍历生成所有下参数组合，并展示最好结果\n",
    "gs_lr = GridSearchCV(estimator = lr, param_grid = params, cv = 5, scoring = make_scorer(accuracy_score))\n",
    "# 训练数据\n",
    "gs_lr.fit(xs,y_train)\n",
    "# 查看最优参数以及指标\n",
    "print(\"最佳参数：\"+str(gs_lr.best_params_)+\"   指标：\"+str(gs_lr.best_score_)+\"   测试集准确率：\"+str(gs_lr.score(xs,y_test)))"
   ],
   "metadata": {
    "collapsed": false,
    "pycharm": {
     "name": "#%%\n"
    }
   }
  },
  {
   "cell_type": "code",
   "execution_count": 23,
   "outputs": [
    {
     "data": {
      "text/plain": "{'mean_fit_time': array([0.10911894, 2.80586691, 0.09261093, 2.52397037, 0.0895462 ,\n        2.53930488, 0.08711996, 2.59468474]),\n 'std_fit_time': array([0.03001943, 0.15366456, 0.00573724, 0.09214357, 0.00713731,\n        0.06440243, 0.00753408, 0.16484004]),\n 'mean_score_time': array([0.        , 0.00982904, 0.        , 0.01279054, 0.        ,\n        0.01825786, 0.        , 0.0115768 ]),\n 'std_score_time': array([0.        , 0.00366211, 0.        , 0.0039203 , 0.        ,\n        0.02054036, 0.        , 0.00443357]),\n 'param_C': masked_array(data=[70, 70, 90, 90, 110, 110, 130, 130],\n              mask=[False, False, False, False, False, False, False, False],\n        fill_value='?',\n             dtype=object),\n 'param_penalty': masked_array(data=['l1', 'l2', 'l1', 'l2', 'l1', 'l2', 'l1', 'l2'],\n              mask=[False, False, False, False, False, False, False, False],\n        fill_value='?',\n             dtype=object),\n 'params': [{'C': 70, 'penalty': 'l1'},\n  {'C': 70, 'penalty': 'l2'},\n  {'C': 90, 'penalty': 'l1'},\n  {'C': 90, 'penalty': 'l2'},\n  {'C': 110, 'penalty': 'l1'},\n  {'C': 110, 'penalty': 'l2'},\n  {'C': 130, 'penalty': 'l1'},\n  {'C': 130, 'penalty': 'l2'}],\n 'split0_test_score': array([       nan, 0.994     ,        nan, 0.99409091,        nan,\n        0.99445455,        nan, 0.99390909]),\n 'split1_test_score': array([       nan, 0.99263636,        nan, 0.99290909,        nan,\n        0.99290909,        nan, 0.993     ]),\n 'split2_test_score': array([       nan, 0.99109091,        nan, 0.99127273,        nan,\n        0.99127273,        nan, 0.99127273]),\n 'split3_test_score': array([       nan, 0.993     ,        nan, 0.99290909,        nan,\n        0.99281818,        nan, 0.99290909]),\n 'split4_test_score': array([       nan, 0.97863636,        nan, 0.97790909,        nan,\n        0.978     ,        nan, 0.97772727]),\n 'mean_test_score': array([       nan, 0.98987273,        nan, 0.98981818,        nan,\n        0.98989091,        nan, 0.98976364]),\n 'std_test_score': array([       nan, 0.00569547,        nan, 0.00602172,        nan,\n        0.00603006,        nan, 0.0060779 ]),\n 'rank_test_score': array([5, 2, 6, 3, 7, 1, 8, 4])}"
     },
     "execution_count": 23,
     "metadata": {},
     "output_type": "execute_result"
    }
   ],
   "source": [
    "# 查看各种组合的调参结果\n",
    "gs_lr.cv_results_"
   ],
   "metadata": {
    "collapsed": false,
    "pycharm": {
     "name": "#%%\n"
    }
   }
  },
  {
   "cell_type": "code",
   "execution_count": 20,
   "outputs": [
    {
     "name": "stdout",
     "output_type": "stream",
     "text": [
      "最佳参数：{'max_depth': 25, 'n_estimators': 80}   指标：0.9592   测试集准确率：0.9609636363636364\n"
     ]
    }
   ],
   "source": [
    "# 随机森林\n",
    "from sklearn.model_selection import GridSearchCV\n",
    "from sklearn.ensemble import RandomForestClassifier\n",
    "rfc = RandomForestClassifier()\n",
    "params = {'n_estimators':list(range(80,120,10)),'max_depth':list(range(15,30,5))} # 遍历生成所有下参数组合，并展示最好结果\n",
    "gs_rfc = GridSearchCV(estimator = rfc, param_grid = params, cv = 5, scoring = make_scorer(accuracy_score))\n",
    "# 训练数据\n",
    "gs_rfc.fit(xs,y_train)\n",
    "# 查看最优参数以及指标\n",
    "print(\"最佳参数：\"+str(gs_rfc.best_params_)+\"   指标：\"+str(gs_rfc.best_score_)+\"   测试集准确率：\"+str(gs_rfc.score(xs,y_test)))"
   ],
   "metadata": {
    "collapsed": false,
    "pycharm": {
     "name": "#%%\n"
    }
   }
  },
  {
   "cell_type": "code",
   "execution_count": 21,
   "outputs": [
    {
     "data": {
      "text/plain": "{'mean_fit_time': array([10.24422665, 11.18205366, 12.40862617, 13.75190988, 12.05393553,\n        13.32283859, 14.7096518 , 16.19997425, 13.05209265, 14.69809299,\n        16.30501537, 17.96135378]),\n 'std_fit_time': array([0.5109004 , 0.13704852, 0.13188245, 0.17668393, 0.30551658,\n        0.32825239, 0.22806766, 0.15690586, 0.32539005, 0.14289068,\n        0.22219817, 0.36863093]),\n 'mean_score_time': array([0.16821475, 0.18846798, 0.20430789, 0.22441511, 0.19864988,\n        0.22147455, 0.23828807, 0.26259108, 0.21711407, 0.24038076,\n        0.26591711, 0.28883858]),\n 'std_score_time': array([0.003184  , 0.00714486, 0.0041756 , 0.00917062, 0.00481339,\n        0.0041653 , 0.00358745, 0.00390119, 0.00438758, 0.00197026,\n        0.00325237, 0.0053318 ]),\n 'param_max_depth': masked_array(data=[15, 15, 15, 15, 20, 20, 20, 20, 25, 25, 25, 25],\n              mask=[False, False, False, False, False, False, False, False,\n                    False, False, False, False],\n        fill_value='?',\n             dtype=object),\n 'param_n_estimators': masked_array(data=[80, 90, 100, 110, 80, 90, 100, 110, 80, 90, 100, 110],\n              mask=[False, False, False, False, False, False, False, False,\n                    False, False, False, False],\n        fill_value='?',\n             dtype=object),\n 'params': [{'max_depth': 15, 'n_estimators': 80},\n  {'max_depth': 15, 'n_estimators': 90},\n  {'max_depth': 15, 'n_estimators': 100},\n  {'max_depth': 15, 'n_estimators': 110},\n  {'max_depth': 20, 'n_estimators': 80},\n  {'max_depth': 20, 'n_estimators': 90},\n  {'max_depth': 20, 'n_estimators': 100},\n  {'max_depth': 20, 'n_estimators': 110},\n  {'max_depth': 25, 'n_estimators': 80},\n  {'max_depth': 25, 'n_estimators': 90},\n  {'max_depth': 25, 'n_estimators': 100},\n  {'max_depth': 25, 'n_estimators': 110}],\n 'split0_test_score': array([0.93363636, 0.93318182, 0.93336364, 0.936     , 0.94754545,\n        0.94709091, 0.94690909, 0.94754545, 0.95254545, 0.95490909,\n        0.95363636, 0.95436364]),\n 'split1_test_score': array([0.93872727, 0.93745455, 0.94072727, 0.93727273, 0.95109091,\n        0.95145455, 0.95154545, 0.94954545, 0.96018182, 0.95918182,\n        0.95936364, 0.95809091]),\n 'split2_test_score': array([0.93736364, 0.93754545, 0.93527273, 0.93754545, 0.95009091,\n        0.94736364, 0.95336364, 0.95181818, 0.96181818, 0.95818182,\n        0.95945455, 0.958     ]),\n 'split3_test_score': array([0.93709091, 0.932     , 0.93345455, 0.93609091, 0.95381818,\n        0.94927273, 0.95109091, 0.953     , 0.95927273, 0.95654545,\n        0.95981818, 0.95927273]),\n 'split4_test_score': array([0.93927273, 0.941     , 0.93645455, 0.93818182, 0.95227273,\n        0.95336364, 0.95445455, 0.95390909, 0.96218182, 0.962     ,\n        0.96163636, 0.96063636]),\n 'mean_test_score': array([0.93721818, 0.93623636, 0.93585455, 0.93701818, 0.95096364,\n        0.94970909, 0.95147273, 0.95116364, 0.9592    , 0.95816364,\n        0.95878182, 0.95807273]),\n 'std_test_score': array([0.00196801, 0.00326089, 0.00269839, 0.00084775, 0.00211301,\n        0.00240619, 0.0025863 , 0.00232585, 0.0034928 , 0.00240688,\n        0.00270145, 0.00208687]),\n 'rank_test_score': array([ 9, 11, 12, 10,  7,  8,  5,  6,  1,  3,  2,  4])}"
     },
     "execution_count": 21,
     "metadata": {},
     "output_type": "execute_result"
    }
   ],
   "source": [
    "# 查看各种组合的调参结果\n",
    "gs_rfc.cv_results_"
   ],
   "metadata": {
    "collapsed": false,
    "pycharm": {
     "name": "#%%\n"
    }
   }
  },
  {
   "cell_type": "markdown",
   "source": [
    "##### 贝叶斯搜索"
   ],
   "metadata": {
    "collapsed": false,
    "pycharm": {
     "name": "#%% md\n"
    }
   }
  },
  {
   "cell_type": "code",
   "execution_count": null,
   "outputs": [],
   "source": [
    "from skopt import BayesSearchCV\n",
    "from sklearn.linear_model import LogisticRegression\n",
    "lr = LogisticRegression()\n",
    "params = {'C':[0.1,1,10,100],'penalty':['l1','l2']} # 遍历生成所有下参数组合，并展示最好结果\n",
    "bs_lr = BayesSearchCV(lr, params, cv = 5, scoring = make_scorer(accuracy_score), n_iter = 40)\n",
    "# 训练数据\n",
    "bs_lr.fit(xs,y_train)\n",
    "# 查看最优参数以及指标\n",
    "print(\"最佳参数：\"+bs_lr.best_params_+\"   指标：\"+bs_lr.best_score_+\"   测试集准确率：\"+bs_lr.score(xs,y_test))"
   ],
   "metadata": {
    "collapsed": false,
    "pycharm": {
     "name": "#%%\n"
    }
   }
  },
  {
   "cell_type": "code",
   "execution_count": null,
   "outputs": [],
   "source": [
    "# 查看各种组合的调参结果\n",
    "bs_lr.cv_results_"
   ],
   "metadata": {
    "collapsed": false,
    "pycharm": {
     "name": "#%%\n"
    }
   }
  },
  {
   "cell_type": "code",
   "execution_count": null,
   "outputs": [],
   "source": [
    "# 随机森林\n",
    "from sklearn.ensemble import RandomForestClassifier\n",
    "rfc = RandomForestClassifier()\n",
    "params = {'n_estimators':list(range(10,200,20)),'max_depth':list(range(100,20,20))} # 遍历生成所有下参数组合，并展示最好结果\n",
    "bs_rfc = BayesSearchCV(rfc, params, cv = 5, scoring = make_scorer(accuracy_score), n_iter = 40)\n",
    "# 训练数据\n",
    "bs_rfc.fit(xs,y_train)\n",
    "# 查看最优参数以及指标\n",
    "print(\"最佳参数：\"+bs_rfc.best_params_+\"   指标：\"+bs_rfc.best_score_+\"   测试集准确率：\"+bs_rfc.score(xs,y_test))"
   ],
   "metadata": {
    "collapsed": false,
    "pycharm": {
     "name": "#%%\n"
    }
   }
  },
  {
   "cell_type": "code",
   "execution_count": null,
   "outputs": [],
   "source": [
    "# 查看各种组合的调参结果\n",
    "bs_rfc.cv_results_"
   ],
   "metadata": {
    "collapsed": false,
    "pycharm": {
     "name": "#%%\n"
    }
   }
  },
  {
   "cell_type": "markdown",
   "source": [
    "##### 嵌套交叉验证"
   ],
   "metadata": {
    "collapsed": false,
    "pycharm": {
     "name": "#%% md\n"
    }
   }
  },
  {
   "cell_type": "code",
   "execution_count": null,
   "outputs": [],
   "source": [
    "from sklearn.model_selection import cross_val_score\n",
    "scores = cross_val_score(gs_lr,xs,y_train,scoring='accuracy',cv=5)\n",
    "scores"
   ],
   "metadata": {
    "collapsed": false,
    "pycharm": {
     "name": "#%%\n"
    }
   }
  },
  {
   "cell_type": "code",
   "execution_count": null,
   "outputs": [],
   "source": [
    "print('CV准确率: %.3f +/- %.3f'%(np.mean(scores),np.std(scores)))"
   ],
   "metadata": {
    "collapsed": false,
    "pycharm": {
     "name": "#%%\n"
    }
   }
  },
  {
   "cell_type": "markdown",
   "source": [
    "#### 训练模型并预测"
   ],
   "metadata": {
    "collapsed": false,
    "pycharm": {
     "name": "#%% md\n"
    }
   }
  },
  {
   "cell_type": "code",
   "execution_count": 54,
   "outputs": [
    {
     "data": {
      "text/plain": "'\\n# 随机森林分类\\nfrom sklearn.ensemble import RandomForestClassifier\\nrfc = RandomForestClassifier(n_estimators=25,max_depth=80)\\nrfc.fit(xs,y_train)\\ny_train_prob = rfc.predict_proba(xs)\\ny_test_prob = rfc.predict_proba(xs)\\ny_test_pred = rfc.predict(xs)\\ny_test_prob\\n'"
     },
     "execution_count": 54,
     "metadata": {},
     "output_type": "execute_result"
    }
   ],
   "source": [
    "# 逻辑斯蒂回归\n",
    "from  sklearn.linear_model import LogisticRegression\n",
    "lr = LogisticRegression(C=110, penalty='l2')\n",
    "lr.fit(xs,y_train)\n",
    "y_train_prob = lr.predict_proba(xs)\n",
    "y_test_prob = lr.predict_proba(xs)\n",
    "y_test_pred = lr.predict(xs)\n",
    "y_test_pred\n",
    "'''\n",
    "# 随机森林分类\n",
    "from sklearn.ensemble import RandomForestClassifier\n",
    "rfc = RandomForestClassifier(n_estimators=25,max_depth=80)\n",
    "rfc.fit(xs,y_train)\n",
    "y_train_prob = rfc.predict_proba(xs)\n",
    "y_test_prob = rfc.predict_proba(xs)\n",
    "y_test_pred = rfc.predict(xs)\n",
    "y_test_prob\n",
    "'''"
   ],
   "metadata": {
    "collapsed": false,
    "pycharm": {
     "name": "#%%\n"
    }
   }
  },
  {
   "cell_type": "markdown",
   "metadata": {
    "pycharm": {
     "name": "#%% md\n"
    }
   },
   "source": [
    "### 概率输出到文件中"
   ]
  },
  {
   "cell_type": "code",
   "execution_count": 55,
   "outputs": [
    {
     "data": {
      "text/plain": "       0 probability  1 probability  predict\n0       3.104512e-02   9.689549e-01        1\n1       2.099391e-07   9.999998e-01        1\n2       3.026300e-04   9.996974e-01        1\n3       3.213517e-05   9.999679e-01        1\n4       2.531200e-05   9.999747e-01        1\n5       7.402172e-05   9.999260e-01        1\n6       1.119503e-04   9.998880e-01        1\n7       4.638514e-04   9.995361e-01        1\n8       3.497689e-02   9.650231e-01        1\n9       1.422731e-04   9.998577e-01        1\n10      6.097894e-03   9.939021e-01        1\n11      3.446851e-03   9.965531e-01        1\n12      1.164973e-05   9.999884e-01        1\n13      3.397444e-02   9.660256e-01        1\n14      3.397444e-02   9.660256e-01        1\n15      6.127373e-07   9.999994e-01        1\n16      7.518138e-03   9.924819e-01        1\n17      1.928823e-03   9.980712e-01        1\n18      6.020303e-04   9.993980e-01        1\n19      2.706639e-04   9.997293e-01        1\n20      2.797806e-07   9.999997e-01        1\n21      3.397444e-02   9.660256e-01        1\n22      5.124576e-03   9.948754e-01        1\n23      1.315106e-05   9.999868e-01        1\n24      7.202926e-06   9.999928e-01        1\n25      9.355587e-05   9.999064e-01        1\n26      1.802807e-04   9.998197e-01        1\n27      1.006390e-04   9.998994e-01        1\n28      4.104198e-02   9.589580e-01        1\n29      2.058972e-05   9.999794e-01        1\n...              ...            ...      ...\n54970   9.999999e-01   5.986907e-08        0\n54971   9.999997e-01   2.855162e-07        0\n54972   9.998220e-01   1.780172e-04        0\n54973   9.999996e-01   3.919111e-07        0\n54974   9.631432e-01   3.685684e-02        0\n54975   1.000000e+00   3.590210e-11        0\n54976   1.000000e+00   1.342309e-10        0\n54977   9.998907e-01   1.092652e-04        0\n54978   9.999469e-01   5.307913e-05        0\n54979   1.000000e+00   5.162021e-09        0\n54980   1.000000e+00   1.264353e-09        0\n54981   9.999998e-01   1.831374e-07        0\n54982   9.821096e-01   1.789043e-02        0\n54983   9.999988e-01   1.199793e-06        0\n54984   9.603623e-01   3.963771e-02        0\n54985   9.999239e-01   7.613710e-05        0\n54986   1.000000e+00   9.315233e-10        0\n54987   1.000000e+00   3.421636e-09        0\n54988   9.994725e-01   5.274792e-04        0\n54989   9.644822e-02   9.035518e-01        1\n54990   9.975504e-01   2.449581e-03        0\n54991   8.899935e-01   1.100065e-01        0\n54992   8.593907e-01   1.406093e-01        0\n54993   9.615787e-01   3.842134e-02        0\n54994   9.999989e-01   1.066831e-06        0\n54995   9.999999e-01   1.295400e-07        0\n54996   1.000000e+00   6.218864e-11        0\n54997   9.999885e-01   1.147300e-05        0\n54998   9.999993e-01   7.126514e-07        0\n54999   9.999999e-01   1.071800e-07        0\n\n[55000 rows x 3 columns]",
      "text/html": "<div>\n<style scoped>\n    .dataframe tbody tr th:only-of-type {\n        vertical-align: middle;\n    }\n\n    .dataframe tbody tr th {\n        vertical-align: top;\n    }\n\n    .dataframe thead th {\n        text-align: right;\n    }\n</style>\n<table border=\"1\" class=\"dataframe\">\n  <thead>\n    <tr style=\"text-align: right;\">\n      <th></th>\n      <th>0 probability</th>\n      <th>1 probability</th>\n      <th>predict</th>\n    </tr>\n  </thead>\n  <tbody>\n    <tr>\n      <th>0</th>\n      <td>3.104512e-02</td>\n      <td>9.689549e-01</td>\n      <td>1</td>\n    </tr>\n    <tr>\n      <th>1</th>\n      <td>2.099391e-07</td>\n      <td>9.999998e-01</td>\n      <td>1</td>\n    </tr>\n    <tr>\n      <th>2</th>\n      <td>3.026300e-04</td>\n      <td>9.996974e-01</td>\n      <td>1</td>\n    </tr>\n    <tr>\n      <th>3</th>\n      <td>3.213517e-05</td>\n      <td>9.999679e-01</td>\n      <td>1</td>\n    </tr>\n    <tr>\n      <th>4</th>\n      <td>2.531200e-05</td>\n      <td>9.999747e-01</td>\n      <td>1</td>\n    </tr>\n    <tr>\n      <th>5</th>\n      <td>7.402172e-05</td>\n      <td>9.999260e-01</td>\n      <td>1</td>\n    </tr>\n    <tr>\n      <th>6</th>\n      <td>1.119503e-04</td>\n      <td>9.998880e-01</td>\n      <td>1</td>\n    </tr>\n    <tr>\n      <th>7</th>\n      <td>4.638514e-04</td>\n      <td>9.995361e-01</td>\n      <td>1</td>\n    </tr>\n    <tr>\n      <th>8</th>\n      <td>3.497689e-02</td>\n      <td>9.650231e-01</td>\n      <td>1</td>\n    </tr>\n    <tr>\n      <th>9</th>\n      <td>1.422731e-04</td>\n      <td>9.998577e-01</td>\n      <td>1</td>\n    </tr>\n    <tr>\n      <th>10</th>\n      <td>6.097894e-03</td>\n      <td>9.939021e-01</td>\n      <td>1</td>\n    </tr>\n    <tr>\n      <th>11</th>\n      <td>3.446851e-03</td>\n      <td>9.965531e-01</td>\n      <td>1</td>\n    </tr>\n    <tr>\n      <th>12</th>\n      <td>1.164973e-05</td>\n      <td>9.999884e-01</td>\n      <td>1</td>\n    </tr>\n    <tr>\n      <th>13</th>\n      <td>3.397444e-02</td>\n      <td>9.660256e-01</td>\n      <td>1</td>\n    </tr>\n    <tr>\n      <th>14</th>\n      <td>3.397444e-02</td>\n      <td>9.660256e-01</td>\n      <td>1</td>\n    </tr>\n    <tr>\n      <th>15</th>\n      <td>6.127373e-07</td>\n      <td>9.999994e-01</td>\n      <td>1</td>\n    </tr>\n    <tr>\n      <th>16</th>\n      <td>7.518138e-03</td>\n      <td>9.924819e-01</td>\n      <td>1</td>\n    </tr>\n    <tr>\n      <th>17</th>\n      <td>1.928823e-03</td>\n      <td>9.980712e-01</td>\n      <td>1</td>\n    </tr>\n    <tr>\n      <th>18</th>\n      <td>6.020303e-04</td>\n      <td>9.993980e-01</td>\n      <td>1</td>\n    </tr>\n    <tr>\n      <th>19</th>\n      <td>2.706639e-04</td>\n      <td>9.997293e-01</td>\n      <td>1</td>\n    </tr>\n    <tr>\n      <th>20</th>\n      <td>2.797806e-07</td>\n      <td>9.999997e-01</td>\n      <td>1</td>\n    </tr>\n    <tr>\n      <th>21</th>\n      <td>3.397444e-02</td>\n      <td>9.660256e-01</td>\n      <td>1</td>\n    </tr>\n    <tr>\n      <th>22</th>\n      <td>5.124576e-03</td>\n      <td>9.948754e-01</td>\n      <td>1</td>\n    </tr>\n    <tr>\n      <th>23</th>\n      <td>1.315106e-05</td>\n      <td>9.999868e-01</td>\n      <td>1</td>\n    </tr>\n    <tr>\n      <th>24</th>\n      <td>7.202926e-06</td>\n      <td>9.999928e-01</td>\n      <td>1</td>\n    </tr>\n    <tr>\n      <th>25</th>\n      <td>9.355587e-05</td>\n      <td>9.999064e-01</td>\n      <td>1</td>\n    </tr>\n    <tr>\n      <th>26</th>\n      <td>1.802807e-04</td>\n      <td>9.998197e-01</td>\n      <td>1</td>\n    </tr>\n    <tr>\n      <th>27</th>\n      <td>1.006390e-04</td>\n      <td>9.998994e-01</td>\n      <td>1</td>\n    </tr>\n    <tr>\n      <th>28</th>\n      <td>4.104198e-02</td>\n      <td>9.589580e-01</td>\n      <td>1</td>\n    </tr>\n    <tr>\n      <th>29</th>\n      <td>2.058972e-05</td>\n      <td>9.999794e-01</td>\n      <td>1</td>\n    </tr>\n    <tr>\n      <th>...</th>\n      <td>...</td>\n      <td>...</td>\n      <td>...</td>\n    </tr>\n    <tr>\n      <th>54970</th>\n      <td>9.999999e-01</td>\n      <td>5.986907e-08</td>\n      <td>0</td>\n    </tr>\n    <tr>\n      <th>54971</th>\n      <td>9.999997e-01</td>\n      <td>2.855162e-07</td>\n      <td>0</td>\n    </tr>\n    <tr>\n      <th>54972</th>\n      <td>9.998220e-01</td>\n      <td>1.780172e-04</td>\n      <td>0</td>\n    </tr>\n    <tr>\n      <th>54973</th>\n      <td>9.999996e-01</td>\n      <td>3.919111e-07</td>\n      <td>0</td>\n    </tr>\n    <tr>\n      <th>54974</th>\n      <td>9.631432e-01</td>\n      <td>3.685684e-02</td>\n      <td>0</td>\n    </tr>\n    <tr>\n      <th>54975</th>\n      <td>1.000000e+00</td>\n      <td>3.590210e-11</td>\n      <td>0</td>\n    </tr>\n    <tr>\n      <th>54976</th>\n      <td>1.000000e+00</td>\n      <td>1.342309e-10</td>\n      <td>0</td>\n    </tr>\n    <tr>\n      <th>54977</th>\n      <td>9.998907e-01</td>\n      <td>1.092652e-04</td>\n      <td>0</td>\n    </tr>\n    <tr>\n      <th>54978</th>\n      <td>9.999469e-01</td>\n      <td>5.307913e-05</td>\n      <td>0</td>\n    </tr>\n    <tr>\n      <th>54979</th>\n      <td>1.000000e+00</td>\n      <td>5.162021e-09</td>\n      <td>0</td>\n    </tr>\n    <tr>\n      <th>54980</th>\n      <td>1.000000e+00</td>\n      <td>1.264353e-09</td>\n      <td>0</td>\n    </tr>\n    <tr>\n      <th>54981</th>\n      <td>9.999998e-01</td>\n      <td>1.831374e-07</td>\n      <td>0</td>\n    </tr>\n    <tr>\n      <th>54982</th>\n      <td>9.821096e-01</td>\n      <td>1.789043e-02</td>\n      <td>0</td>\n    </tr>\n    <tr>\n      <th>54983</th>\n      <td>9.999988e-01</td>\n      <td>1.199793e-06</td>\n      <td>0</td>\n    </tr>\n    <tr>\n      <th>54984</th>\n      <td>9.603623e-01</td>\n      <td>3.963771e-02</td>\n      <td>0</td>\n    </tr>\n    <tr>\n      <th>54985</th>\n      <td>9.999239e-01</td>\n      <td>7.613710e-05</td>\n      <td>0</td>\n    </tr>\n    <tr>\n      <th>54986</th>\n      <td>1.000000e+00</td>\n      <td>9.315233e-10</td>\n      <td>0</td>\n    </tr>\n    <tr>\n      <th>54987</th>\n      <td>1.000000e+00</td>\n      <td>3.421636e-09</td>\n      <td>0</td>\n    </tr>\n    <tr>\n      <th>54988</th>\n      <td>9.994725e-01</td>\n      <td>5.274792e-04</td>\n      <td>0</td>\n    </tr>\n    <tr>\n      <th>54989</th>\n      <td>9.644822e-02</td>\n      <td>9.035518e-01</td>\n      <td>1</td>\n    </tr>\n    <tr>\n      <th>54990</th>\n      <td>9.975504e-01</td>\n      <td>2.449581e-03</td>\n      <td>0</td>\n    </tr>\n    <tr>\n      <th>54991</th>\n      <td>8.899935e-01</td>\n      <td>1.100065e-01</td>\n      <td>0</td>\n    </tr>\n    <tr>\n      <th>54992</th>\n      <td>8.593907e-01</td>\n      <td>1.406093e-01</td>\n      <td>0</td>\n    </tr>\n    <tr>\n      <th>54993</th>\n      <td>9.615787e-01</td>\n      <td>3.842134e-02</td>\n      <td>0</td>\n    </tr>\n    <tr>\n      <th>54994</th>\n      <td>9.999989e-01</td>\n      <td>1.066831e-06</td>\n      <td>0</td>\n    </tr>\n    <tr>\n      <th>54995</th>\n      <td>9.999999e-01</td>\n      <td>1.295400e-07</td>\n      <td>0</td>\n    </tr>\n    <tr>\n      <th>54996</th>\n      <td>1.000000e+00</td>\n      <td>6.218864e-11</td>\n      <td>0</td>\n    </tr>\n    <tr>\n      <th>54997</th>\n      <td>9.999885e-01</td>\n      <td>1.147300e-05</td>\n      <td>0</td>\n    </tr>\n    <tr>\n      <th>54998</th>\n      <td>9.999993e-01</td>\n      <td>7.126514e-07</td>\n      <td>0</td>\n    </tr>\n    <tr>\n      <th>54999</th>\n      <td>9.999999e-01</td>\n      <td>1.071800e-07</td>\n      <td>0</td>\n    </tr>\n  </tbody>\n</table>\n<p>55000 rows × 3 columns</p>\n</div>"
     },
     "execution_count": 55,
     "metadata": {},
     "output_type": "execute_result"
    }
   ],
   "source": [
    "prob = pd.DataFrame(y_test_prob)\n",
    "prob.columns = [\"0 probability\",\"1 probability\"]\n",
    "prob[\"predict\"] = pd.DataFrame(y_test_pred)\n",
    "prob"
   ],
   "metadata": {
    "collapsed": false,
    "pycharm": {
     "name": "#%%\n"
    }
   }
  },
  {
   "cell_type": "code",
   "execution_count": 56,
   "metadata": {
    "pycharm": {
     "name": "#%%\n"
    }
   },
   "outputs": [],
   "source": [
    "df_all[\"0 probability\"] = prob[\"0 probability\"]\n",
    "df_all[\"1 probability\"] = prob[\"1 probability\"]\n",
    "df_all[\"predict\"] = prob[\"predict\"]\n",
    "df_all.to_csv(\"adjusted.csv\")"
   ]
  },
  {
   "cell_type": "code",
   "execution_count": 57,
   "metadata": {
    "pycharm": {
     "name": "#%%\n"
    }
   },
   "outputs": [],
   "source": [
    "from sklearn.metrics import confusion_matrix\n",
    "from sklearn.metrics import accuracy_score\n",
    "from sklearn.metrics import roc_curve,auc\n",
    "\n",
    "def cal(clf,y_t,x_p):\n",
    "    y_p=clf.predict(x_p)\n",
    "    cm = confusion_matrix(y_t,y_p)\n",
    "    acc = accuracy_score(y_t,y_p)\n",
    "    pr = cm[0,0]/(cm[0,0]+cm[1,0])\n",
    "    rec = cm[0,0]/(cm[0,0]+cm[0,1])\n",
    "    f1 = (2*pr*rec)/(pr+rec)\n",
    "    y_p = clf.predict_proba(x_p)[:,1]\n",
    "    fpr,tpr,thresholds = roc_curve(y_t,y_p)\n",
    "    auc_ = auc(fpr,tpr)\n",
    "    return cm,acc,pr,rec,f1,auc_"
   ]
  },
  {
   "cell_type": "code",
   "execution_count": 58,
   "metadata": {
    "pycharm": {
     "name": "#%%\n"
    }
   },
   "outputs": [],
   "source": [
    "cm1,acc1,pr1,rec1,f1_1,auc1 = cal(lr ,y_train,xs)\n",
    "cm2,acc2,pr2,rec2,f1_2,auc2 = cal(lr,y_test,xs)"
   ]
  },
  {
   "cell_type": "code",
   "execution_count": 59,
   "metadata": {
    "pycharm": {
     "name": "#%%\n"
    }
   },
   "outputs": [
    {
     "data": {
      "text/plain": "     accuracy  precision   recall       f1       auc\n训练集  0.995055   0.997141  0.99742  0.99728  0.999293\n测试集  0.995055   0.997141  0.99742  0.99728  0.999293",
      "text/html": "<div>\n<style scoped>\n    .dataframe tbody tr th:only-of-type {\n        vertical-align: middle;\n    }\n\n    .dataframe tbody tr th {\n        vertical-align: top;\n    }\n\n    .dataframe thead th {\n        text-align: right;\n    }\n</style>\n<table border=\"1\" class=\"dataframe\">\n  <thead>\n    <tr style=\"text-align: right;\">\n      <th></th>\n      <th>accuracy</th>\n      <th>precision</th>\n      <th>recall</th>\n      <th>f1</th>\n      <th>auc</th>\n    </tr>\n  </thead>\n  <tbody>\n    <tr>\n      <th>训练集</th>\n      <td>0.995055</td>\n      <td>0.997141</td>\n      <td>0.99742</td>\n      <td>0.99728</td>\n      <td>0.999293</td>\n    </tr>\n    <tr>\n      <th>测试集</th>\n      <td>0.995055</td>\n      <td>0.997141</td>\n      <td>0.99742</td>\n      <td>0.99728</td>\n      <td>0.999293</td>\n    </tr>\n  </tbody>\n</table>\n</div>"
     },
     "execution_count": 59,
     "metadata": {},
     "output_type": "execute_result"
    }
   ],
   "source": [
    "result1 = pd.DataFrame([[acc1,pr1,rec1,f1_1,auc1],[acc2,pr2,rec2,f1_2,auc2]],columns=['accuracy','precision','recall','f1','auc'],index=['训练集','测试集'])\n",
    "result1"
   ]
  },
  {
   "cell_type": "code",
   "execution_count": 60,
   "metadata": {
    "pycharm": {
     "name": "#%%\n"
    }
   },
   "outputs": [
    {
     "data": {
      "text/plain": "      正例    反例\n0  49871   129\n1    143  4857",
      "text/html": "<div>\n<style scoped>\n    .dataframe tbody tr th:only-of-type {\n        vertical-align: middle;\n    }\n\n    .dataframe tbody tr th {\n        vertical-align: top;\n    }\n\n    .dataframe thead th {\n        text-align: right;\n    }\n</style>\n<table border=\"1\" class=\"dataframe\">\n  <thead>\n    <tr style=\"text-align: right;\">\n      <th></th>\n      <th>正例</th>\n      <th>反例</th>\n    </tr>\n  </thead>\n  <tbody>\n    <tr>\n      <th>0</th>\n      <td>49871</td>\n      <td>129</td>\n    </tr>\n    <tr>\n      <th>1</th>\n      <td>143</td>\n      <td>4857</td>\n    </tr>\n  </tbody>\n</table>\n</div>"
     },
     "execution_count": 60,
     "metadata": {},
     "output_type": "execute_result"
    }
   ],
   "source": [
    "mat1 = pd.DataFrame(cm1,columns=['正例','反例'])\n",
    "mat1"
   ]
  },
  {
   "cell_type": "code",
   "execution_count": 61,
   "metadata": {
    "pycharm": {
     "name": "#%%\n"
    }
   },
   "outputs": [
    {
     "data": {
      "text/plain": "<Figure size 432x288 with 2 Axes>",
      "image/png": "[encoded data removed]"
     },
     "metadata": {
      "needs_background": "light"
     },
     "output_type": "display_data"
    }
   ],
   "source": [
    "import seaborn as sns\n",
    "sns.heatmap(mat1,annot=True,fmt=\"d\",cmap='Blues_r')\n",
    "plt.title(\"训练集混淆矩阵\")\n",
    "plt.show()"
   ]
  },
  {
   "cell_type": "code",
   "execution_count": 62,
   "metadata": {
    "pycharm": {
     "name": "#%%\n"
    }
   },
   "outputs": [
    {
     "data": {
      "text/plain": "      正例    反例\n0  49871   129\n1    143  4857",
      "text/html": "<div>\n<style scoped>\n    .dataframe tbody tr th:only-of-type {\n        vertical-align: middle;\n    }\n\n    .dataframe tbody tr th {\n        vertical-align: top;\n    }\n\n    .dataframe thead th {\n        text-align: right;\n    }\n</style>\n<table border=\"1\" class=\"dataframe\">\n  <thead>\n    <tr style=\"text-align: right;\">\n      <th></th>\n      <th>正例</th>\n      <th>反例</th>\n    </tr>\n  </thead>\n  <tbody>\n    <tr>\n      <th>0</th>\n      <td>49871</td>\n      <td>129</td>\n    </tr>\n    <tr>\n      <th>1</th>\n      <td>143</td>\n      <td>4857</td>\n    </tr>\n  </tbody>\n</table>\n</div>"
     },
     "execution_count": 62,
     "metadata": {},
     "output_type": "execute_result"
    }
   ],
   "source": [
    "mat2 = pd.DataFrame(cm2,columns=['正例','反例'])\n",
    "mat2"
   ]
  },
  {
   "cell_type": "code",
   "execution_count": 63,
   "metadata": {
    "pycharm": {
     "name": "#%%\n"
    }
   },
   "outputs": [
    {
     "data": {
      "text/plain": "<Figure size 432x288 with 2 Axes>",
      "image/png": "[encoded data removed]"
     },
     "metadata": {
      "needs_background": "light"
     },
     "output_type": "display_data"
    }
   ],
   "source": [
    "sns.heatmap(mat2,annot=True,fmt=\"d\",cmap='Blues_r')\n",
    "plt.title(\"测试集混淆矩阵\")\n",
    "plt.show()"
   ]
  },
  {
   "cell_type": "code",
   "execution_count": 64,
   "metadata": {
    "pycharm": {
     "name": "#%%\n"
    }
   },
   "outputs": [],
   "source": [
    "def plot_roc(clf,y_t,x_p,title):\n",
    "    y_p = clf.predict_proba(x_p)[:,1]\n",
    "    fpr,tpr,thresholds = roc_curve(y_t,y_p)\n",
    "    roc_auc = auc(fpr,tpr)\n",
    "    plt.subplots(figsize=(7,5.5));\n",
    "    plt.plot(fpr,tpr,color='darkorange',lw=2,label='ROC curve(area = %0.4f)'% roc_auc);\n",
    "    plt.plot([0,1],[0,1],color='navy',lw=2,linestyle='--')\n",
    "    plt.xlim([0.0,1.0]);\n",
    "    plt.ylim([0.0,1.05]);\n",
    "    plt.xlabel('false positive rate');\n",
    "    plt.ylabel('true positive rate');\n",
    "    plt.title(title)\n",
    "    plt.legend(loc=\"low right\");\n",
    "    plt.show()"
   ]
  },
  {
   "cell_type": "code",
   "execution_count": 66,
   "metadata": {
    "pycharm": {
     "name": "#%%\n"
    }
   },
   "outputs": [
    {
     "data": {
      "text/plain": "<Figure size 504x396 with 1 Axes>",
      "image/png": "[encoded data removed]"
     },
     "metadata": {
      "needs_background": "light"
     },
     "output_type": "display_data"
    }
   ],
   "source": [
    "plot_roc(lr,y_train,xs,\"ROC\")"
   ]
  }
 ],
 "metadata": {
  "kernelspec": {
   "display_name": "Python 3",
   "language": "python",
   "name": "python3"
  },
  "language_info": {
   "codemirror_mode": {
    "name": "ipython",
    "version": 3
   },
   "file_extension": ".py",
   "mimetype": "text/x-python",
   "name": "python",
   "nbconvert_exporter": "python",
   "pygments_lexer": "ipython3",
   "version": "3.7.0"
  }
 },
 "nbformat": 4,
 "nbformat_minor": 1
}