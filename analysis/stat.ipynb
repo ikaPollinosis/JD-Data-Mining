{
 "cells": [
  {
   "cell_type": "code",
   "execution_count": 2,
   "outputs": [],
   "source": [
    "import pandas as pd\n",
    "import numpy as np\n",
    "import bokeh\n",
    "import warnings\n",
    "import jieba\n",
    "import re\n",
    "from sklearn.feature_extraction.text import CountVectorizer\n",
    "from sklearn.feature_extraction.text import TfidfTransformer\n",
    "import matplotlib.pyplot as plt\n",
    "import seaborn as sns"
   ],
   "metadata": {
    "collapsed": false
   }
  },
  {
   "cell_type": "markdown",
   "source": [
    "# LDA统计"
   ],
   "metadata": {
    "collapsed": false
   }
  },
  {
   "cell_type": "code",
   "execution_count": 3,
   "outputs": [],
   "source": [
    "df_lda0 = pd.read_csv('LDAResult_pos.csv',encoding='UTF-8')\n",
    "df_lda1 = pd.read_csv('LDAResult_neg.csv',encoding='UTF-8')"
   ],
   "metadata": {
    "collapsed": false
   }
  },
  {
   "cell_type": "markdown",
   "source": [
    "### 按照1列可能性进行计算情感值"
   ],
   "metadata": {
    "collapsed": false
   }
  },
  {
   "cell_type": "code",
   "execution_count": 11,
   "outputs": [
    {
     "data": {
      "text/plain": "[0.0681677641283139,\n 0.07195580297508791,\n 0.06844539280190734,\n 0.08289402422466445,\n 0.07748784357744563,\n 0.07720418256796759]"
     },
     "execution_count": 11,
     "metadata": {},
     "output_type": "execute_result"
    }
   ],
   "source": [
    "# 消极评论情感值均值\n",
    "sentiment = []\n",
    "count = []\n",
    "for i in range(6):\n",
    "    count.append(0)\n",
    "    sentiment.append(0)\n",
    "i = 0\n",
    "for index,row in df_lda1.iterrows():\n",
    "    i=i+1\n",
    "    count[int(row['LDA_Topic'])]+=1\n",
    "    sentiment[int(row['LDA_Topic'])] += float(row['0 probability'])\n",
    "    if i == 4500:\n",
    "        break\n",
    "for i in range(6):\n",
    "    sentiment[i]=sentiment[i]/count[i]\n",
    "#输出每个话题的情感值\n",
    "sentiment"
   ],
   "metadata": {
    "collapsed": false
   }
  },
  {
   "cell_type": "code",
   "execution_count": 5,
   "outputs": [
    {
     "data": {
      "text/plain": "[1065, 584, 1023, 412, 734, 682]"
     },
     "execution_count": 5,
     "metadata": {},
     "output_type": "execute_result"
    }
   ],
   "source": [
    "count"
   ],
   "metadata": {
    "collapsed": false
   }
  },
  {
   "cell_type": "code",
   "execution_count": 6,
   "outputs": [
    {
     "data": {
      "text/plain": "[0.9942224654007794,\n 0.9942976347912872,\n 0.9953516484269941,\n 0.9943115379332891,\n 0.9945664859018047,\n 0.9937955954414917]"
     },
     "execution_count": 6,
     "metadata": {},
     "output_type": "execute_result"
    }
   ],
   "source": [
    "# 积极评论情感值均值\n",
    "sentiment = []\n",
    "count = []\n",
    "for i in range(6):\n",
    "    count.append(0)\n",
    "    sentiment.append(0)\n",
    "i = 0\n",
    "for index,row in df_lda0.iterrows():\n",
    "    i=i+1\n",
    "    count[int(row['LDA_Topic'])]+=1\n",
    "    sentiment[int(row['LDA_Topic'])] += float(row['0 probability'])\n",
    "    if i == 44000:\n",
    "        break\n",
    "for i in range(6):\n",
    "    sentiment[i]=sentiment[i]/count[i]\n",
    "#输出每个话题的情感值\n",
    "sentiment"
   ],
   "metadata": {
    "collapsed": false
   }
  },
  {
   "cell_type": "code",
   "execution_count": 12,
   "outputs": [
    {
     "data": {
      "text/plain": "[1065, 584, 1023, 412, 734, 682]"
     },
     "execution_count": 12,
     "metadata": {},
     "output_type": "execute_result"
    }
   ],
   "source": [
    "count"
   ],
   "metadata": {
    "collapsed": false
   }
  },
  {
   "cell_type": "code",
   "execution_count": 14,
   "outputs": [
    {
     "data": {
      "text/plain": "[0.004025613440679448,\n 0.00479255113669968,\n 0.004800161594791,\n 0.005202822259806407,\n 0.005247299284796448,\n 0.004009628319037514]"
     },
     "execution_count": 14,
     "metadata": {},
     "output_type": "execute_result"
    }
   ],
   "source": [
    "# 标准差\n",
    "deviation = []\n",
    "for i in range(6):\n",
    "    deviation.append(0)\n",
    "i = 0\n",
    "for index,row in df_lda1.iterrows():\n",
    "    i=i+1\n",
    "    deviation[int(row['LDA_Topic'])]+=(float(row['0 probability']) -sentiment[int(row['LDA_Topic'])])**2\n",
    "    if i == 4500:\n",
    "        break\n",
    "for i in range(6):\n",
    "    deviation[i]=(deviation[i]/count[i])\n",
    "#输出每个话题的情感值\n",
    "deviation"
   ],
   "metadata": {
    "collapsed": false
   }
  },
  {
   "cell_type": "code",
   "execution_count": null,
   "outputs": [],
   "source": [],
   "metadata": {
    "collapsed": false
   }
  }
 ],
 "metadata": {
  "kernelspec": {
   "display_name": "Python 3",
   "language": "python",
   "name": "python3"
  },
  "language_info": {
   "codemirror_mode": {
    "name": "ipython",
    "version": 2
   },
   "file_extension": ".py",
   "mimetype": "text/x-python",
   "name": "python",
   "nbconvert_exporter": "python",
   "pygments_lexer": "ipython2",
   "version": "2.7.6"
  }
 },
 "nbformat": 4,
 "nbformat_minor": 0
}
